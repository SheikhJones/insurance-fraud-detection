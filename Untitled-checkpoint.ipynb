{
 "cells": [
  {
   "cell_type": "code",
   "execution_count": 1,
   "id": "4a9fcdd3",
   "metadata": {},
   "outputs": [
    {
     "name": "stderr",
     "output_type": "stream",
     "text": [
      "C:\\Users\\Admin\\anaconda3\\lib\\site-packages\\scipy\\__init__.py:146: UserWarning: A NumPy version >=1.16.5 and <1.23.0 is required for this version of SciPy (detected version 1.23.0\n",
      "  warnings.warn(f\"A NumPy version >={np_minversion} and <{np_maxversion}\"\n"
     ]
    }
   ],
   "source": [
    "import pandas as pd\n",
    "import numpy as np\n",
    "import matplotlib.pyplot as plt\n",
    "import seaborn as sns"
   ]
  },
  {
   "cell_type": "code",
   "execution_count": 2,
   "id": "c4777ddb",
   "metadata": {},
   "outputs": [],
   "source": [
    "df = pd.read_csv('fraud_oracle.csv')"
   ]
  },
  {
   "cell_type": "raw",
   "id": "044f653c",
   "metadata": {},
   "source": [
    "Data Dictionary (at first glance)\n",
    "Results of printing the unique values from each feature. Things I noticed about each feature.\n",
    "\n",
    "Month - object\n",
    "contains 3 letter abbreviations for the months of the year\n",
    "Are these the months in which the accident occured?\n",
    "\n",
    "\n",
    "WeekOfMonth - int64\n",
    "provides the week in the month the accident occured?\n",
    "\n",
    "DayOfWeek - object\n",
    "contains days of the week - are these the days of the week the accident occured on?\n",
    "\n",
    "Make - object\n",
    "contains a list of 19 car manufacturers\n",
    "\n",
    "AccidentArea - object\n",
    "classifies area for accident as \"Urban\" or \"Rural\"\n",
    "\n",
    "DayOfWeekClaimed - object\n",
    "contains the day of the week the claim was filed\n",
    "also contains '0' - need to check how many of these there are and see about \"fixing\" - missing data?\n",
    "\n",
    "MonthClaimed - object\n",
    "contains 3 letter abbreviations for the months of the year\n",
    "contains '0' - need to check how many there are and what they mean - missing data?\n",
    "\n",
    "WeekOfMonthClaimed - int64\n",
    "contains weeks in the month that the claimed in filed\n",
    "\n",
    "Sex - object\n",
    "gender of individual making claim?\n",
    "binary data, convert to 1 or 0\n",
    "\n",
    "MaritalStatus - object\n",
    "marital status of individual making claim?\n",
    "\n",
    "Age - int64\n",
    "ages of individual making claim?\n",
    "there is at least one individual with age 0 - missing data?\n",
    "\n",
    "Fault - object\n",
    "categorization of who was deemed at fault.\n",
    "convert to binary, 1 or 0\n",
    "\n",
    "PolicyType - object\n",
    "contains two pieces of info -\n",
    "the type of insurance on the car - liability, all perils, collision\n",
    "category of the vehicle - sport, sedan, utility\n",
    "\n",
    "VehicleCategory - object\n",
    "contains the categorization of the vehicle (see PolicyType)\n",
    "\n",
    "VehiclePrice - object\n",
    "contains ranges for the value of the vehicle\n",
    "replace ranges with mean value of range and convert to float\n",
    "\n",
    "FraudFound_P - int64\n",
    "indicats whether the claim was fraudulant (1) or not (0)\n",
    "this is what we want to predict\n",
    "\n",
    "PolicyNumber - int64\n",
    "the masked policy number, appears to be the same as row number minus 1\n",
    "\n",
    "RepNumber - int64\n",
    "rep number is integer from 1 - 16\n",
    "\n",
    "Deductible - int64\n",
    "the deductible amount\n",
    "integer values\n",
    "\n",
    "DriverRating - int64\n",
    "the scale is 1, 2, 3, 4\n",
    "the name DriverRating implies the data is ordinal, but is it interval as well?\n",
    "\n",
    "Days_Policy_Accident - object\n",
    "as a guess, this is the number of days between when the policy was purchased and the accident occured\n",
    "each value is again a range of values\n",
    "change these to be mean of the range and make float\n",
    "\n",
    "Days_Policy_Claim - object\n",
    "another guess, this is the number of days that pass between the policy was purchased and the claim was filed\n",
    "each value is a range\n",
    "change these to be the mean of the ranges and make float\n",
    "\n",
    "PastNumberOfClaims - object\n",
    "previous number of claims filed by policy holder (or claimant?)\n",
    "\n",
    "AgeOfVehicle - object\n",
    "represents age of vehicle at time of the accident?\n",
    "each value is a range of years\n",
    "change these to be the mean of the ranges and make float\n",
    "\n",
    "AgeOfPolicyHolder - object\n",
    "each value is a range of ages\"\n",
    "change these to be the mean of the ranges and make float\n",
    "\n",
    "PoliceReportFiled - object\n",
    "indicates whether a police report was filed for the accident\n",
    "convert to binary\n",
    "\n",
    "WitnessPresent - object\n",
    "indicted whether a witness was present\n",
    "conver to binary\n",
    "\n",
    "AgentType - object\n",
    "this classifies an agent who is handling the claim as internal vs external\n",
    "what does this mean?\n",
    "change to binary\n",
    "\n",
    "NumberOfSuppliments - object\n",
    "probably not the number of vitamins taken daily\n",
    "not sure what a suppliment is in insurance\n",
    "\n",
    "AddressChange_Claim - object\n",
    "guess, time from claim was filled to when person moved (i.e. filed an address change)\n",
    "replace each interval with mean value of range\n",
    "\n",
    "NumberOfCars - object\n",
    "guess, number of cars involved in accident OR number of cars covered under policy\n",
    "replace each interval with mean value of range\n",
    "\n",
    "Year - int64\n",
    "guess, year accident occured\n",
    "\n",
    "BasePolicy - object\n",
    "type of insurance coverage (see PolicyType)"
   ]
  },
  {
   "cell_type": "code",
   "execution_count": 3,
   "id": "10e41bbb",
   "metadata": {},
   "outputs": [
    {
     "data": {
      "text/html": [
       "<div>\n",
       "<style scoped>\n",
       "    .dataframe tbody tr th:only-of-type {\n",
       "        vertical-align: middle;\n",
       "    }\n",
       "\n",
       "    .dataframe tbody tr th {\n",
       "        vertical-align: top;\n",
       "    }\n",
       "\n",
       "    .dataframe thead th {\n",
       "        text-align: right;\n",
       "    }\n",
       "</style>\n",
       "<table border=\"1\" class=\"dataframe\">\n",
       "  <thead>\n",
       "    <tr style=\"text-align: right;\">\n",
       "      <th></th>\n",
       "      <th>Month</th>\n",
       "      <th>WeekOfMonth</th>\n",
       "      <th>DayOfWeek</th>\n",
       "      <th>Make</th>\n",
       "      <th>AccidentArea</th>\n",
       "      <th>DayOfWeekClaimed</th>\n",
       "      <th>MonthClaimed</th>\n",
       "      <th>WeekOfMonthClaimed</th>\n",
       "      <th>Sex</th>\n",
       "      <th>MaritalStatus</th>\n",
       "      <th>...</th>\n",
       "      <th>AgeOfVehicle</th>\n",
       "      <th>AgeOfPolicyHolder</th>\n",
       "      <th>PoliceReportFiled</th>\n",
       "      <th>WitnessPresent</th>\n",
       "      <th>AgentType</th>\n",
       "      <th>NumberOfSuppliments</th>\n",
       "      <th>AddressChange_Claim</th>\n",
       "      <th>NumberOfCars</th>\n",
       "      <th>Year</th>\n",
       "      <th>BasePolicy</th>\n",
       "    </tr>\n",
       "  </thead>\n",
       "  <tbody>\n",
       "    <tr>\n",
       "      <th>0</th>\n",
       "      <td>Dec</td>\n",
       "      <td>5</td>\n",
       "      <td>Wednesday</td>\n",
       "      <td>Honda</td>\n",
       "      <td>Urban</td>\n",
       "      <td>Tuesday</td>\n",
       "      <td>Jan</td>\n",
       "      <td>1</td>\n",
       "      <td>Female</td>\n",
       "      <td>Single</td>\n",
       "      <td>...</td>\n",
       "      <td>3 years</td>\n",
       "      <td>26 to 30</td>\n",
       "      <td>No</td>\n",
       "      <td>No</td>\n",
       "      <td>External</td>\n",
       "      <td>none</td>\n",
       "      <td>1 year</td>\n",
       "      <td>3 to 4</td>\n",
       "      <td>1994</td>\n",
       "      <td>Liability</td>\n",
       "    </tr>\n",
       "    <tr>\n",
       "      <th>1</th>\n",
       "      <td>Jan</td>\n",
       "      <td>3</td>\n",
       "      <td>Wednesday</td>\n",
       "      <td>Honda</td>\n",
       "      <td>Urban</td>\n",
       "      <td>Monday</td>\n",
       "      <td>Jan</td>\n",
       "      <td>4</td>\n",
       "      <td>Male</td>\n",
       "      <td>Single</td>\n",
       "      <td>...</td>\n",
       "      <td>6 years</td>\n",
       "      <td>31 to 35</td>\n",
       "      <td>Yes</td>\n",
       "      <td>No</td>\n",
       "      <td>External</td>\n",
       "      <td>none</td>\n",
       "      <td>no change</td>\n",
       "      <td>1 vehicle</td>\n",
       "      <td>1994</td>\n",
       "      <td>Collision</td>\n",
       "    </tr>\n",
       "    <tr>\n",
       "      <th>2</th>\n",
       "      <td>Oct</td>\n",
       "      <td>5</td>\n",
       "      <td>Friday</td>\n",
       "      <td>Honda</td>\n",
       "      <td>Urban</td>\n",
       "      <td>Thursday</td>\n",
       "      <td>Nov</td>\n",
       "      <td>2</td>\n",
       "      <td>Male</td>\n",
       "      <td>Married</td>\n",
       "      <td>...</td>\n",
       "      <td>7 years</td>\n",
       "      <td>41 to 50</td>\n",
       "      <td>No</td>\n",
       "      <td>No</td>\n",
       "      <td>External</td>\n",
       "      <td>none</td>\n",
       "      <td>no change</td>\n",
       "      <td>1 vehicle</td>\n",
       "      <td>1994</td>\n",
       "      <td>Collision</td>\n",
       "    </tr>\n",
       "    <tr>\n",
       "      <th>3</th>\n",
       "      <td>Jun</td>\n",
       "      <td>2</td>\n",
       "      <td>Saturday</td>\n",
       "      <td>Toyota</td>\n",
       "      <td>Rural</td>\n",
       "      <td>Friday</td>\n",
       "      <td>Jul</td>\n",
       "      <td>1</td>\n",
       "      <td>Male</td>\n",
       "      <td>Married</td>\n",
       "      <td>...</td>\n",
       "      <td>more than 7</td>\n",
       "      <td>51 to 65</td>\n",
       "      <td>Yes</td>\n",
       "      <td>No</td>\n",
       "      <td>External</td>\n",
       "      <td>more than 5</td>\n",
       "      <td>no change</td>\n",
       "      <td>1 vehicle</td>\n",
       "      <td>1994</td>\n",
       "      <td>Liability</td>\n",
       "    </tr>\n",
       "    <tr>\n",
       "      <th>4</th>\n",
       "      <td>Jan</td>\n",
       "      <td>5</td>\n",
       "      <td>Monday</td>\n",
       "      <td>Honda</td>\n",
       "      <td>Urban</td>\n",
       "      <td>Tuesday</td>\n",
       "      <td>Feb</td>\n",
       "      <td>2</td>\n",
       "      <td>Female</td>\n",
       "      <td>Single</td>\n",
       "      <td>...</td>\n",
       "      <td>5 years</td>\n",
       "      <td>31 to 35</td>\n",
       "      <td>No</td>\n",
       "      <td>No</td>\n",
       "      <td>External</td>\n",
       "      <td>none</td>\n",
       "      <td>no change</td>\n",
       "      <td>1 vehicle</td>\n",
       "      <td>1994</td>\n",
       "      <td>Collision</td>\n",
       "    </tr>\n",
       "    <tr>\n",
       "      <th>...</th>\n",
       "      <td>...</td>\n",
       "      <td>...</td>\n",
       "      <td>...</td>\n",
       "      <td>...</td>\n",
       "      <td>...</td>\n",
       "      <td>...</td>\n",
       "      <td>...</td>\n",
       "      <td>...</td>\n",
       "      <td>...</td>\n",
       "      <td>...</td>\n",
       "      <td>...</td>\n",
       "      <td>...</td>\n",
       "      <td>...</td>\n",
       "      <td>...</td>\n",
       "      <td>...</td>\n",
       "      <td>...</td>\n",
       "      <td>...</td>\n",
       "      <td>...</td>\n",
       "      <td>...</td>\n",
       "      <td>...</td>\n",
       "      <td>...</td>\n",
       "    </tr>\n",
       "    <tr>\n",
       "      <th>15415</th>\n",
       "      <td>Nov</td>\n",
       "      <td>4</td>\n",
       "      <td>Friday</td>\n",
       "      <td>Toyota</td>\n",
       "      <td>Urban</td>\n",
       "      <td>Tuesday</td>\n",
       "      <td>Nov</td>\n",
       "      <td>5</td>\n",
       "      <td>Male</td>\n",
       "      <td>Married</td>\n",
       "      <td>...</td>\n",
       "      <td>6 years</td>\n",
       "      <td>31 to 35</td>\n",
       "      <td>No</td>\n",
       "      <td>No</td>\n",
       "      <td>External</td>\n",
       "      <td>none</td>\n",
       "      <td>no change</td>\n",
       "      <td>1 vehicle</td>\n",
       "      <td>1996</td>\n",
       "      <td>Collision</td>\n",
       "    </tr>\n",
       "    <tr>\n",
       "      <th>15416</th>\n",
       "      <td>Nov</td>\n",
       "      <td>5</td>\n",
       "      <td>Thursday</td>\n",
       "      <td>Pontiac</td>\n",
       "      <td>Urban</td>\n",
       "      <td>Friday</td>\n",
       "      <td>Dec</td>\n",
       "      <td>1</td>\n",
       "      <td>Male</td>\n",
       "      <td>Married</td>\n",
       "      <td>...</td>\n",
       "      <td>6 years</td>\n",
       "      <td>31 to 35</td>\n",
       "      <td>No</td>\n",
       "      <td>No</td>\n",
       "      <td>External</td>\n",
       "      <td>more than 5</td>\n",
       "      <td>no change</td>\n",
       "      <td>3 to 4</td>\n",
       "      <td>1996</td>\n",
       "      <td>Liability</td>\n",
       "    </tr>\n",
       "    <tr>\n",
       "      <th>15417</th>\n",
       "      <td>Nov</td>\n",
       "      <td>5</td>\n",
       "      <td>Thursday</td>\n",
       "      <td>Toyota</td>\n",
       "      <td>Rural</td>\n",
       "      <td>Friday</td>\n",
       "      <td>Dec</td>\n",
       "      <td>1</td>\n",
       "      <td>Male</td>\n",
       "      <td>Single</td>\n",
       "      <td>...</td>\n",
       "      <td>5 years</td>\n",
       "      <td>26 to 30</td>\n",
       "      <td>No</td>\n",
       "      <td>No</td>\n",
       "      <td>External</td>\n",
       "      <td>1 to 2</td>\n",
       "      <td>no change</td>\n",
       "      <td>1 vehicle</td>\n",
       "      <td>1996</td>\n",
       "      <td>Collision</td>\n",
       "    </tr>\n",
       "    <tr>\n",
       "      <th>15418</th>\n",
       "      <td>Dec</td>\n",
       "      <td>1</td>\n",
       "      <td>Monday</td>\n",
       "      <td>Toyota</td>\n",
       "      <td>Urban</td>\n",
       "      <td>Thursday</td>\n",
       "      <td>Dec</td>\n",
       "      <td>2</td>\n",
       "      <td>Female</td>\n",
       "      <td>Married</td>\n",
       "      <td>...</td>\n",
       "      <td>2 years</td>\n",
       "      <td>31 to 35</td>\n",
       "      <td>No</td>\n",
       "      <td>No</td>\n",
       "      <td>External</td>\n",
       "      <td>more than 5</td>\n",
       "      <td>no change</td>\n",
       "      <td>1 vehicle</td>\n",
       "      <td>1996</td>\n",
       "      <td>All Perils</td>\n",
       "    </tr>\n",
       "    <tr>\n",
       "      <th>15419</th>\n",
       "      <td>Dec</td>\n",
       "      <td>2</td>\n",
       "      <td>Wednesday</td>\n",
       "      <td>Toyota</td>\n",
       "      <td>Urban</td>\n",
       "      <td>Thursday</td>\n",
       "      <td>Dec</td>\n",
       "      <td>3</td>\n",
       "      <td>Male</td>\n",
       "      <td>Single</td>\n",
       "      <td>...</td>\n",
       "      <td>5 years</td>\n",
       "      <td>26 to 30</td>\n",
       "      <td>No</td>\n",
       "      <td>No</td>\n",
       "      <td>External</td>\n",
       "      <td>1 to 2</td>\n",
       "      <td>no change</td>\n",
       "      <td>1 vehicle</td>\n",
       "      <td>1996</td>\n",
       "      <td>Collision</td>\n",
       "    </tr>\n",
       "  </tbody>\n",
       "</table>\n",
       "<p>15420 rows × 33 columns</p>\n",
       "</div>"
      ],
      "text/plain": [
       "      Month  WeekOfMonth  DayOfWeek     Make AccidentArea DayOfWeekClaimed  \\\n",
       "0       Dec            5  Wednesday    Honda        Urban          Tuesday   \n",
       "1       Jan            3  Wednesday    Honda        Urban           Monday   \n",
       "2       Oct            5     Friday    Honda        Urban         Thursday   \n",
       "3       Jun            2   Saturday   Toyota        Rural           Friday   \n",
       "4       Jan            5     Monday    Honda        Urban          Tuesday   \n",
       "...     ...          ...        ...      ...          ...              ...   \n",
       "15415   Nov            4     Friday   Toyota        Urban          Tuesday   \n",
       "15416   Nov            5   Thursday  Pontiac        Urban           Friday   \n",
       "15417   Nov            5   Thursday   Toyota        Rural           Friday   \n",
       "15418   Dec            1     Monday   Toyota        Urban         Thursday   \n",
       "15419   Dec            2  Wednesday   Toyota        Urban         Thursday   \n",
       "\n",
       "      MonthClaimed  WeekOfMonthClaimed     Sex MaritalStatus  ...  \\\n",
       "0              Jan                   1  Female        Single  ...   \n",
       "1              Jan                   4    Male        Single  ...   \n",
       "2              Nov                   2    Male       Married  ...   \n",
       "3              Jul                   1    Male       Married  ...   \n",
       "4              Feb                   2  Female        Single  ...   \n",
       "...            ...                 ...     ...           ...  ...   \n",
       "15415          Nov                   5    Male       Married  ...   \n",
       "15416          Dec                   1    Male       Married  ...   \n",
       "15417          Dec                   1    Male        Single  ...   \n",
       "15418          Dec                   2  Female       Married  ...   \n",
       "15419          Dec                   3    Male        Single  ...   \n",
       "\n",
       "       AgeOfVehicle AgeOfPolicyHolder PoliceReportFiled WitnessPresent  \\\n",
       "0           3 years          26 to 30                No             No   \n",
       "1           6 years          31 to 35               Yes             No   \n",
       "2           7 years          41 to 50                No             No   \n",
       "3       more than 7          51 to 65               Yes             No   \n",
       "4           5 years          31 to 35                No             No   \n",
       "...             ...               ...               ...            ...   \n",
       "15415       6 years          31 to 35                No             No   \n",
       "15416       6 years          31 to 35                No             No   \n",
       "15417       5 years          26 to 30                No             No   \n",
       "15418       2 years          31 to 35                No             No   \n",
       "15419       5 years          26 to 30                No             No   \n",
       "\n",
       "      AgentType  NumberOfSuppliments  AddressChange_Claim  NumberOfCars  Year  \\\n",
       "0      External                 none               1 year        3 to 4  1994   \n",
       "1      External                 none            no change     1 vehicle  1994   \n",
       "2      External                 none            no change     1 vehicle  1994   \n",
       "3      External          more than 5            no change     1 vehicle  1994   \n",
       "4      External                 none            no change     1 vehicle  1994   \n",
       "...         ...                  ...                  ...           ...   ...   \n",
       "15415  External                 none            no change     1 vehicle  1996   \n",
       "15416  External          more than 5            no change        3 to 4  1996   \n",
       "15417  External               1 to 2            no change     1 vehicle  1996   \n",
       "15418  External          more than 5            no change     1 vehicle  1996   \n",
       "15419  External               1 to 2            no change     1 vehicle  1996   \n",
       "\n",
       "       BasePolicy  \n",
       "0       Liability  \n",
       "1       Collision  \n",
       "2       Collision  \n",
       "3       Liability  \n",
       "4       Collision  \n",
       "...           ...  \n",
       "15415   Collision  \n",
       "15416   Liability  \n",
       "15417   Collision  \n",
       "15418  All Perils  \n",
       "15419   Collision  \n",
       "\n",
       "[15420 rows x 33 columns]"
      ]
     },
     "execution_count": 3,
     "metadata": {},
     "output_type": "execute_result"
    }
   ],
   "source": [
    "df"
   ]
  },
  {
   "cell_type": "code",
   "execution_count": 4,
   "id": "9c50f233",
   "metadata": {},
   "outputs": [
    {
     "data": {
      "text/plain": [
       "Month                   object\n",
       "WeekOfMonth              int64\n",
       "DayOfWeek               object\n",
       "Make                    object\n",
       "AccidentArea            object\n",
       "DayOfWeekClaimed        object\n",
       "MonthClaimed            object\n",
       "WeekOfMonthClaimed       int64\n",
       "Sex                     object\n",
       "MaritalStatus           object\n",
       "Age                      int64\n",
       "Fault                   object\n",
       "PolicyType              object\n",
       "VehicleCategory         object\n",
       "VehiclePrice            object\n",
       "FraudFound_P             int64\n",
       "PolicyNumber             int64\n",
       "RepNumber                int64\n",
       "Deductible               int64\n",
       "DriverRating             int64\n",
       "Days_Policy_Accident    object\n",
       "Days_Policy_Claim       object\n",
       "PastNumberOfClaims      object\n",
       "AgeOfVehicle            object\n",
       "AgeOfPolicyHolder       object\n",
       "PoliceReportFiled       object\n",
       "WitnessPresent          object\n",
       "AgentType               object\n",
       "NumberOfSuppliments     object\n",
       "AddressChange_Claim     object\n",
       "NumberOfCars            object\n",
       "Year                     int64\n",
       "BasePolicy              object\n",
       "dtype: object"
      ]
     },
     "execution_count": 4,
     "metadata": {},
     "output_type": "execute_result"
    }
   ],
   "source": [
    "df.dtypes"
   ]
  },
  {
   "cell_type": "code",
   "execution_count": 5,
   "id": "b9d84e8a",
   "metadata": {},
   "outputs": [
    {
     "data": {
      "text/plain": [
       "Month                   0\n",
       "WeekOfMonth             0\n",
       "DayOfWeek               0\n",
       "Make                    0\n",
       "AccidentArea            0\n",
       "DayOfWeekClaimed        0\n",
       "MonthClaimed            0\n",
       "WeekOfMonthClaimed      0\n",
       "Sex                     0\n",
       "MaritalStatus           0\n",
       "Age                     0\n",
       "Fault                   0\n",
       "PolicyType              0\n",
       "VehicleCategory         0\n",
       "VehiclePrice            0\n",
       "FraudFound_P            0\n",
       "PolicyNumber            0\n",
       "RepNumber               0\n",
       "Deductible              0\n",
       "DriverRating            0\n",
       "Days_Policy_Accident    0\n",
       "Days_Policy_Claim       0\n",
       "PastNumberOfClaims      0\n",
       "AgeOfVehicle            0\n",
       "AgeOfPolicyHolder       0\n",
       "PoliceReportFiled       0\n",
       "WitnessPresent          0\n",
       "AgentType               0\n",
       "NumberOfSuppliments     0\n",
       "AddressChange_Claim     0\n",
       "NumberOfCars            0\n",
       "Year                    0\n",
       "BasePolicy              0\n",
       "dtype: int64"
      ]
     },
     "execution_count": 5,
     "metadata": {},
     "output_type": "execute_result"
    }
   ],
   "source": [
    "df.isnull().sum()"
   ]
  },
  {
   "cell_type": "code",
   "execution_count": 6,
   "id": "35f04249",
   "metadata": {},
   "outputs": [
    {
     "data": {
      "text/plain": [
       "array(['Liability', 'Collision', 'All Perils'], dtype=object)"
      ]
     },
     "execution_count": 6,
     "metadata": {},
     "output_type": "execute_result"
    }
   ],
   "source": [
    "df['BasePolicy'].unique()"
   ]
  },
  {
   "cell_type": "code",
   "execution_count": 7,
   "id": "1ac1b053",
   "metadata": {},
   "outputs": [
    {
     "name": "stdout",
     "output_type": "stream",
     "text": [
      "Month ['Dec' 'Jan' 'Oct' 'Jun' 'Feb' 'Nov' 'Apr' 'Mar' 'Aug' 'Jul' 'May' 'Sep']\n",
      "WeekOfMonth [5 3 2 4 1]\n",
      "DayOfWeek ['Wednesday' 'Friday' 'Saturday' 'Monday' 'Tuesday' 'Sunday' 'Thursday']\n",
      "Make ['Honda' 'Toyota' 'Ford' 'Mazda' 'Chevrolet' 'Pontiac' 'Accura' 'Dodge'\n",
      " 'Mercury' 'Jaguar' 'Nisson' 'VW' 'Saab' 'Saturn' 'Porche' 'BMW' 'Mecedes'\n",
      " 'Ferrari' 'Lexus']\n",
      "AccidentArea ['Urban' 'Rural']\n",
      "DayOfWeekClaimed ['Tuesday' 'Monday' 'Thursday' 'Friday' 'Wednesday' 'Saturday' 'Sunday'\n",
      " '0']\n",
      "MonthClaimed ['Jan' 'Nov' 'Jul' 'Feb' 'Mar' 'Dec' 'Apr' 'Aug' 'May' 'Jun' 'Sep' 'Oct'\n",
      " '0']\n",
      "WeekOfMonthClaimed [1 4 2 3 5]\n",
      "Sex ['Female' 'Male']\n",
      "MaritalStatus ['Single' 'Married' 'Widow' 'Divorced']\n",
      "Age [21 34 47 65 27 20 36  0 30 42 71 52 28 61 38 41 32 40 63 31 45 60 39 55\n",
      " 35 44 72 29 37 59 49 50 26 48 64 33 74 23 25 56 16 68 18 51 22 53 46 43\n",
      " 57 54 69 67 19 78 77 75 80 58 73 24 76 62 79 70 17 66]\n",
      "Fault ['Policy Holder' 'Third Party']\n",
      "PolicyType ['Sport - Liability' 'Sport - Collision' 'Sedan - Liability'\n",
      " 'Utility - All Perils' 'Sedan - All Perils' 'Sedan - Collision'\n",
      " 'Utility - Collision' 'Utility - Liability' 'Sport - All Perils']\n",
      "VehicleCategory ['Sport' 'Utility' 'Sedan']\n",
      "VehiclePrice ['more than 69000' '20000 to 29000' '30000 to 39000' 'less than 20000'\n",
      " '40000 to 59000' '60000 to 69000']\n",
      "FraudFound_P [0 1]\n",
      "PolicyNumber [    1     2     3 ... 15418 15419 15420]\n",
      "RepNumber [12 15  7  4  3 14  1 13 11 16  6  2  8  5  9 10]\n",
      "Deductible [300 400 500 700]\n",
      "DriverRating [1 4 3 2]\n",
      "Days_Policy_Accident ['more than 30' '15 to 30' 'none' '1 to 7' '8 to 15']\n",
      "Days_Policy_Claim ['more than 30' '15 to 30' '8 to 15' 'none']\n",
      "PastNumberOfClaims ['none' '1' '2 to 4' 'more than 4']\n",
      "AgeOfVehicle ['3 years' '6 years' '7 years' 'more than 7' '5 years' 'new' '4 years'\n",
      " '2 years']\n",
      "AgeOfPolicyHolder ['26 to 30' '31 to 35' '41 to 50' '51 to 65' '21 to 25' '36 to 40'\n",
      " '16 to 17' 'over 65' '18 to 20']\n",
      "PoliceReportFiled ['No' 'Yes']\n",
      "WitnessPresent ['No' 'Yes']\n",
      "AgentType ['External' 'Internal']\n",
      "NumberOfSuppliments ['none' 'more than 5' '3 to 5' '1 to 2']\n",
      "AddressChange_Claim ['1 year' 'no change' '4 to 8 years' '2 to 3 years' 'under 6 months']\n",
      "NumberOfCars ['3 to 4' '1 vehicle' '2 vehicles' '5 to 8' 'more than 8']\n",
      "Year [1994 1995 1996]\n",
      "BasePolicy ['Liability' 'Collision' 'All Perils']\n"
     ]
    }
   ],
   "source": [
    "    \n",
    "print('Month',df['Month'].unique())\n",
    "print('WeekOfMonth',df['WeekOfMonth'].unique())\n",
    "print('DayOfWeek',df['DayOfWeek'].unique())\n",
    "print('Make',df['Make'].unique())\n",
    "print('AccidentArea',df['AccidentArea'].unique())\n",
    "print('DayOfWeekClaimed',df['DayOfWeekClaimed'].unique())\n",
    "print('MonthClaimed',df['MonthClaimed'].unique())\n",
    "print('WeekOfMonthClaimed',df['WeekOfMonthClaimed'].unique())\n",
    "print('Sex',df['Sex'].unique())\n",
    "print('MaritalStatus',df['MaritalStatus'].unique())\n",
    "print('Age',df['Age'].unique())\n",
    "print('Fault',df['Fault'].unique())\n",
    "print('PolicyType',df['PolicyType'].unique())\n",
    "print('VehicleCategory',df['VehicleCategory'].unique())\n",
    "print('VehiclePrice',df['VehiclePrice'].unique())\n",
    "print('FraudFound_P',df['FraudFound_P'].unique())\n",
    "print('PolicyNumber',df['PolicyNumber'].unique())\n",
    "print('RepNumber',df['RepNumber'].unique())\n",
    "print('Deductible',df['Deductible'].unique())\n",
    "print('DriverRating',df['DriverRating'].unique())\n",
    "print('Days_Policy_Accident', df['Days_Policy_Accident'].unique())\n",
    "print('Days_Policy_Claim',df['Days_Policy_Claim'].unique())\n",
    "print('PastNumberOfClaims',df['PastNumberOfClaims'].unique())\n",
    "print('AgeOfVehicle',df['AgeOfVehicle'].unique())\n",
    "print('AgeOfPolicyHolder',df['AgeOfPolicyHolder'].unique())\n",
    "print('PoliceReportFiled',df['PoliceReportFiled'].unique())\n",
    "print('WitnessPresent',df['WitnessPresent'].unique())\n",
    "print('AgentType',df['AgentType'].unique())\n",
    "print('NumberOfSuppliments',df['NumberOfSuppliments'].unique())\n",
    "print('AddressChange_Claim',df['AddressChange_Claim'].unique())\n",
    "print('NumberOfCars',df['NumberOfCars'].unique())\n",
    "print('Year',df['Year'].unique())\n",
    "print('BasePolicy',df['BasePolicy'].unique())"
   ]
  },
  {
   "cell_type": "raw",
   "id": "971aaa64",
   "metadata": {},
   "source": [
    "data.loc[data['floors']==1.5, 'floors'] = 2\n",
    "data.loc[data['floors']==2.5, 'floors'] = 3\n",
    "data.loc[data['floors']==3.5, 'floors'] = 4"
   ]
  },
  {
   "cell_type": "code",
   "execution_count": 8,
   "id": "8c051bc6",
   "metadata": {},
   "outputs": [
    {
     "data": {
      "text/plain": [
       "array([    1,     2,     3, ..., 15418, 15419, 15420], dtype=int64)"
      ]
     },
     "execution_count": 8,
     "metadata": {},
     "output_type": "execute_result"
    }
   ],
   "source": [
    "df['PolicyNumber'].unique()"
   ]
  },
  {
   "cell_type": "code",
   "execution_count": 9,
   "id": "052a2f3c",
   "metadata": {},
   "outputs": [
    {
     "data": {
      "text/plain": [
       "Month                   0\n",
       "WeekOfMonth             0\n",
       "DayOfWeek               0\n",
       "Make                    0\n",
       "AccidentArea            0\n",
       "DayOfWeekClaimed        0\n",
       "MonthClaimed            0\n",
       "WeekOfMonthClaimed      0\n",
       "Sex                     0\n",
       "MaritalStatus           0\n",
       "Age                     0\n",
       "Fault                   0\n",
       "PolicyType              0\n",
       "VehicleCategory         0\n",
       "VehiclePrice            0\n",
       "FraudFound_P            0\n",
       "PolicyNumber            0\n",
       "RepNumber               0\n",
       "Deductible              0\n",
       "DriverRating            0\n",
       "Days_Policy_Accident    0\n",
       "Days_Policy_Claim       0\n",
       "PastNumberOfClaims      0\n",
       "AgeOfVehicle            0\n",
       "AgeOfPolicyHolder       0\n",
       "PoliceReportFiled       0\n",
       "WitnessPresent          0\n",
       "AgentType               0\n",
       "NumberOfSuppliments     0\n",
       "AddressChange_Claim     0\n",
       "NumberOfCars            0\n",
       "Year                    0\n",
       "BasePolicy              0\n",
       "dtype: int64"
      ]
     },
     "execution_count": 9,
     "metadata": {},
     "output_type": "execute_result"
    }
   ],
   "source": [
    "df.isnull().sum()"
   ]
  },
  {
   "cell_type": "code",
   "execution_count": 10,
   "id": "e500be56",
   "metadata": {},
   "outputs": [
    {
     "data": {
      "text/plain": [
       "<AxesSubplot:>"
      ]
     },
     "execution_count": 10,
     "metadata": {},
     "output_type": "execute_result"
    },
    {
     "data": {
      "image/png": "[encoded data removed]",
      "text/plain": [
       "<Figure size 432x288 with 1 Axes>"
      ]
     },
     "metadata": {
      "needs_background": "light"
     },
     "output_type": "display_data"
    }
   ],
   "source": [
    "df[\"FraudFound_P\"].value_counts().plot(kind=\"bar\", color=['salmon', 'lightblue'])\n"
   ]
  },
  {
   "cell_type": "code",
   "execution_count": 11,
   "id": "08aa1edf",
   "metadata": {},
   "outputs": [
    {
     "data": {
      "text/plain": [
       "Male      13000\n",
       "Female     2420\n",
       "Name: Sex, dtype: int64"
      ]
     },
     "execution_count": 11,
     "metadata": {},
     "output_type": "execute_result"
    }
   ],
   "source": [
    "df['Sex'].value_counts()"
   ]
  },
  {
   "cell_type": "code",
   "execution_count": 12,
   "id": "73514ea5",
   "metadata": {},
   "outputs": [
    {
     "data": {
      "text/plain": [
       "<AxesSubplot:>"
      ]
     },
     "execution_count": 12,
     "metadata": {},
     "output_type": "execute_result"
    },
    {
     "data": {
      "image/png": "[encoded data removed]",
      "text/plain": [
       "<Figure size 432x288 with 1 Axes>"
      ]
     },
     "metadata": {
      "needs_background": "light"
     },
     "output_type": "display_data"
    }
   ],
   "source": [
    "df[\"FraudFound_P\"].value_counts().plot(kind=\"bar\", color=['salmon', 'lightblue'])\n"
   ]
  },
  {
   "cell_type": "code",
   "execution_count": 13,
   "id": "0d154134",
   "metadata": {},
   "outputs": [
    {
     "data": {
      "text/plain": [
       "<AxesSubplot:>"
      ]
     },
     "execution_count": 13,
     "metadata": {},
     "output_type": "execute_result"
    },
    {
     "data": {
      "image/png": "[encoded data removed]",
      "text/plain": [
       "<Figure size 432x288 with 1 Axes>"
      ]
     },
     "metadata": {
      "needs_background": "light"
     },
     "output_type": "display_data"
    }
   ],
   "source": [
    "df[\"PolicyType\"].value_counts().plot(kind=\"bar\", color=['salmon','lightblue'])"
   ]
  },
  {
   "cell_type": "code",
   "execution_count": 14,
   "id": "ac7fd91e",
   "metadata": {},
   "outputs": [
    {
     "data": {
      "text/plain": [
       "array(['more than 69000', '20000 to 29000', '30000 to 39000',\n",
       "       'less than 20000', '40000 to 59000', '60000 to 69000'],\n",
       "      dtype=object)"
      ]
     },
     "execution_count": 14,
     "metadata": {},
     "output_type": "execute_result"
    }
   ],
   "source": [
    "df['VehiclePrice'].unique()"
   ]
  },
  {
   "cell_type": "code",
   "execution_count": 15,
   "id": "c45b8438",
   "metadata": {},
   "outputs": [
    {
     "data": {
      "text/plain": [
       "(1, 33)"
      ]
     },
     "execution_count": 15,
     "metadata": {},
     "output_type": "execute_result"
    }
   ],
   "source": [
    "df[df['PolicyType'] == 'Sport - Liability'].shape"
   ]
  },
  {
   "cell_type": "code",
   "execution_count": 16,
   "id": "a585d00a",
   "metadata": {},
   "outputs": [
    {
     "data": {
      "text/plain": [
       "(22, 33)"
      ]
     },
     "execution_count": 16,
     "metadata": {},
     "output_type": "execute_result"
    }
   ],
   "source": [
    "df[df['PolicyType']=='Sport - All Perils'].shape"
   ]
  },
  {
   "cell_type": "code",
   "execution_count": 17,
   "id": "f5528af4",
   "metadata": {},
   "outputs": [],
   "source": [
    "import seaborn as sns"
   ]
  },
  {
   "cell_type": "code",
   "execution_count": 18,
   "id": "67498f08",
   "metadata": {},
   "outputs": [],
   "source": [
    "#sns.barplot(x='VehiclePrice', y='price', df=df)"
   ]
  },
  {
   "cell_type": "code",
   "execution_count": 19,
   "id": "d2c2b4e6",
   "metadata": {},
   "outputs": [
    {
     "data": {
      "text/plain": [
       "16 to 17    320\n",
       "Name: AgeOfPolicyHolder, dtype: int64"
      ]
     },
     "execution_count": 19,
     "metadata": {},
     "output_type": "execute_result"
    }
   ],
   "source": [
    "mask_0 = df[\"Age\"] == 0\n",
    "df_age_0 = df[mask_0]\n",
    "df_age_0.AgeOfPolicyHolder.value_counts()"
   ]
  },
  {
   "cell_type": "code",
   "execution_count": 20,
   "id": "3323932c",
   "metadata": {},
   "outputs": [
    {
     "data": {
      "image/png": "[encoded data removed]",
      "text/plain": [
       "<Figure size 1584x432 with 1 Axes>"
      ]
     },
     "metadata": {
      "needs_background": "light"
     },
     "output_type": "display_data"
    }
   ],
   "source": [
    "gpd_by_val=df.groupby('Age').agg({'FraudFound_P':'sum'}).reset_index()\n",
    "\n",
    "fig, (ax1) = plt.subplots(1,1,figsize=(22, 6))\n",
    "grph =sns.barplot(x='Age', y='FraudFound_P', data = gpd_by_val, ax=ax1)\n",
    "\n",
    "plt.title(\"Incidencia de Fraude por edad\")\n",
    "grph.set_xticklabels(grph.get_xticklabels(),\n",
    "                    rotation=0,\n",
    "                    horizontalalignment='right'\n",
    "                    );"
   ]
  },
  {
   "cell_type": "code",
   "execution_count": 21,
   "id": "8e53f9ab",
   "metadata": {},
   "outputs": [
    {
     "data": {
      "text/html": [
       "<div>\n",
       "<style scoped>\n",
       "    .dataframe tbody tr th:only-of-type {\n",
       "        vertical-align: middle;\n",
       "    }\n",
       "\n",
       "    .dataframe tbody tr th {\n",
       "        vertical-align: top;\n",
       "    }\n",
       "\n",
       "    .dataframe thead th {\n",
       "        text-align: right;\n",
       "    }\n",
       "</style>\n",
       "<table border=\"1\" class=\"dataframe\">\n",
       "  <thead>\n",
       "    <tr style=\"text-align: right;\">\n",
       "      <th></th>\n",
       "      <th>PolicyType</th>\n",
       "      <th>VehicleCategory</th>\n",
       "      <th>BasePolicy</th>\n",
       "    </tr>\n",
       "  </thead>\n",
       "  <tbody>\n",
       "    <tr>\n",
       "      <th>0</th>\n",
       "      <td>Sport - Liability</td>\n",
       "      <td>Sport</td>\n",
       "      <td>Liability</td>\n",
       "    </tr>\n",
       "    <tr>\n",
       "      <th>1</th>\n",
       "      <td>Sport - Collision</td>\n",
       "      <td>Sport</td>\n",
       "      <td>Collision</td>\n",
       "    </tr>\n",
       "    <tr>\n",
       "      <th>2</th>\n",
       "      <td>Sport - Collision</td>\n",
       "      <td>Sport</td>\n",
       "      <td>Collision</td>\n",
       "    </tr>\n",
       "    <tr>\n",
       "      <th>3</th>\n",
       "      <td>Sedan - Liability</td>\n",
       "      <td>Sport</td>\n",
       "      <td>Liability</td>\n",
       "    </tr>\n",
       "    <tr>\n",
       "      <th>4</th>\n",
       "      <td>Sport - Collision</td>\n",
       "      <td>Sport</td>\n",
       "      <td>Collision</td>\n",
       "    </tr>\n",
       "  </tbody>\n",
       "</table>\n",
       "</div>"
      ],
      "text/plain": [
       "          PolicyType VehicleCategory BasePolicy\n",
       "0  Sport - Liability           Sport  Liability\n",
       "1  Sport - Collision           Sport  Collision\n",
       "2  Sport - Collision           Sport  Collision\n",
       "3  Sedan - Liability           Sport  Liability\n",
       "4  Sport - Collision           Sport  Collision"
      ]
     },
     "execution_count": 21,
     "metadata": {},
     "output_type": "execute_result"
    }
   ],
   "source": [
    "df[[\"PolicyType\", \"VehicleCategory\", \"BasePolicy\"]].head()\n"
   ]
  },
  {
   "cell_type": "code",
   "execution_count": 22,
   "id": "bb322ed3",
   "metadata": {},
   "outputs": [],
   "source": [
    "#sns.barplot(x='Age', y='DriverRating', df=df)"
   ]
  },
  {
   "cell_type": "code",
   "execution_count": 23,
   "id": "f4f1f21a",
   "metadata": {},
   "outputs": [
    {
     "data": {
      "text/plain": [
       "Month                   object\n",
       "WeekOfMonth              int64\n",
       "DayOfWeek               object\n",
       "Make                    object\n",
       "AccidentArea            object\n",
       "DayOfWeekClaimed        object\n",
       "MonthClaimed            object\n",
       "WeekOfMonthClaimed       int64\n",
       "Sex                     object\n",
       "MaritalStatus           object\n",
       "Age                      int64\n",
       "Fault                   object\n",
       "PolicyType              object\n",
       "VehicleCategory         object\n",
       "VehiclePrice            object\n",
       "FraudFound_P             int64\n",
       "PolicyNumber             int64\n",
       "RepNumber                int64\n",
       "Deductible               int64\n",
       "DriverRating             int64\n",
       "Days_Policy_Accident    object\n",
       "Days_Policy_Claim       object\n",
       "PastNumberOfClaims      object\n",
       "AgeOfVehicle            object\n",
       "AgeOfPolicyHolder       object\n",
       "PoliceReportFiled       object\n",
       "WitnessPresent          object\n",
       "AgentType               object\n",
       "NumberOfSuppliments     object\n",
       "AddressChange_Claim     object\n",
       "NumberOfCars            object\n",
       "Year                     int64\n",
       "BasePolicy              object\n",
       "dtype: object"
      ]
     },
     "execution_count": 23,
     "metadata": {},
     "output_type": "execute_result"
    }
   ],
   "source": [
    "df.dtypes"
   ]
  },
  {
   "cell_type": "code",
   "execution_count": 24,
   "id": "9246f696",
   "metadata": {},
   "outputs": [
    {
     "data": {
      "text/plain": [
       "array(['Dec', 'Jan', 'Oct', 'Jun', 'Feb', 'Nov', 'Apr', 'Mar', 'Aug',\n",
       "       'Jul', 'May', 'Sep'], dtype=object)"
      ]
     },
     "execution_count": 24,
     "metadata": {},
     "output_type": "execute_result"
    }
   ],
   "source": [
    "df['Month'].unique()"
   ]
  },
  {
   "cell_type": "code",
   "execution_count": 25,
   "id": "d0dbb453",
   "metadata": {},
   "outputs": [],
   "source": [
    "df.loc[df['Month']=='Jan', 'Month'] = 1\n",
    "df.loc[df['Month']=='Feb', 'Month'] = 2\n",
    "df.loc[df['Month']=='Mar', 'Month'] = 3\n",
    "df.loc[df['Month']=='Apr', 'Month'] = 4\n",
    "df.loc[df['Month']=='May', 'Month'] = 5\n",
    "df.loc[df['Month']=='Jun', 'Month'] = 6\n",
    "df.loc[df['Month']=='Jul', 'Month'] = 7\n",
    "df.loc[df['Month']=='Aug', 'Month'] = 8\n",
    "df.loc[df['Month']=='Sep', 'Month'] = 9\n",
    "df.loc[df['Month']=='Oct', 'Month'] = 10\n",
    "df.loc[df['Month']=='Nov', 'Month'] = 11\n",
    "df.loc[df['Month']=='Dec', 'Month'] = 12\n",
    "\n",
    "\n"
   ]
  },
  {
   "cell_type": "code",
   "execution_count": 26,
   "id": "395bc38e",
   "metadata": {},
   "outputs": [
    {
     "data": {
      "text/plain": [
       "array([5, 3, 2, 4, 1], dtype=int64)"
      ]
     },
     "execution_count": 26,
     "metadata": {},
     "output_type": "execute_result"
    }
   ],
   "source": [
    "df['WeekOfMonth'].unique()"
   ]
  },
  {
   "cell_type": "code",
   "execution_count": 27,
   "id": "8483b252",
   "metadata": {},
   "outputs": [
    {
     "data": {
      "text/plain": [
       "array(['Wednesday', 'Friday', 'Saturday', 'Monday', 'Tuesday', 'Sunday',\n",
       "       'Thursday'], dtype=object)"
      ]
     },
     "execution_count": 27,
     "metadata": {},
     "output_type": "execute_result"
    }
   ],
   "source": [
    "df['DayOfWeek'].unique()"
   ]
  },
  {
   "cell_type": "code",
   "execution_count": 28,
   "id": "087d529f",
   "metadata": {},
   "outputs": [],
   "source": [
    "df.loc[df['DayOfWeek']=='Monday', 'DayOfWeek'] = 1\n",
    "df.loc[df['DayOfWeek']=='Tuesday', 'DayOfWeek'] = 2\n",
    "df.loc[df['DayOfWeek']=='Wednesday', 'DayOfWeek'] = 3\n",
    "df.loc[df['DayOfWeek']=='Thursday', 'DayOfWeek'] = 4\n",
    "df.loc[df['DayOfWeek']=='Friday', 'DayOfWeek'] = 5\n",
    "df.loc[df['DayOfWeek']=='Saturday', 'DayOfWeek'] = 6\n",
    "df.loc[df['DayOfWeek']=='Sunday', 'DayOfWeek'] = 7"
   ]
  },
  {
   "cell_type": "code",
   "execution_count": 29,
   "id": "a9bc8736",
   "metadata": {},
   "outputs": [
    {
     "data": {
      "text/plain": [
       "array(['Honda', 'Toyota', 'Ford', 'Mazda', 'Chevrolet', 'Pontiac',\n",
       "       'Accura', 'Dodge', 'Mercury', 'Jaguar', 'Nisson', 'VW', 'Saab',\n",
       "       'Saturn', 'Porche', 'BMW', 'Mecedes', 'Ferrari', 'Lexus'],\n",
       "      dtype=object)"
      ]
     },
     "execution_count": 29,
     "metadata": {},
     "output_type": "execute_result"
    }
   ],
   "source": [
    "df['Make'].unique()"
   ]
  },
  {
   "cell_type": "code",
   "execution_count": 30,
   "id": "21fd95b0",
   "metadata": {},
   "outputs": [],
   "source": [
    "df.loc[df['Make']=='Honda', 'Make'] = 1\n",
    "df.loc[df['Make']=='Toyota', 'Make'] = 2\n",
    "df.loc[df['Make']=='Ford', 'Make'] = 3\n",
    "df.loc[df['Make']=='Mazda', 'Make'] = 4\n",
    "df.loc[df['Make']=='Chevrolet', 'Make'] = 5\n",
    "df.loc[df['Make']=='Pontiac', 'Make'] = 6\n",
    "df.loc[df['Make']=='Accura', 'Make'] = 7\n",
    "df.loc[df['Make']=='Dodge', 'Make'] = 8\n",
    "df.loc[df['Make']=='Mercury', 'Make'] = 9\n",
    "df.loc[df['Make']=='Jaguar', 'Make'] = 10\n",
    "df.loc[df['Make']=='Nisson', 'Make'] = 11\n",
    "df.loc[df['Make']=='VW', 'Make'] = 12\n",
    "df.loc[df['Make']=='Saab', 'Make'] = 13\n",
    "df.loc[df['Make']=='Saturn', 'Make'] = 14\n",
    "df.loc[df['Make']=='Porche', 'Make'] = 15\n",
    "df.loc[df['Make']=='BMW', 'Make'] = 16\n",
    "df.loc[df['Make']=='Mecedes', 'Make'] = 17\n",
    "df.loc[df['Make']=='Ferrari', 'Make'] = 18\n",
    "df.loc[df['Make']=='Lexus', 'Make'] = 19\n",
    "\n"
   ]
  },
  {
   "cell_type": "code",
   "execution_count": 31,
   "id": "716d580f",
   "metadata": {},
   "outputs": [
    {
     "data": {
      "text/plain": [
       "array(['Urban', 'Rural'], dtype=object)"
      ]
     },
     "execution_count": 31,
     "metadata": {},
     "output_type": "execute_result"
    }
   ],
   "source": [
    "df['AccidentArea'].unique()"
   ]
  },
  {
   "cell_type": "code",
   "execution_count": 32,
   "id": "0d97655d",
   "metadata": {},
   "outputs": [],
   "source": [
    "df.loc[df['AccidentArea']=='Urban', 'AccidentArea'] = 1\n",
    "df.loc[df['AccidentArea']=='Rural', 'AccidentArea'] = 2\n",
    " "
   ]
  },
  {
   "cell_type": "code",
   "execution_count": 33,
   "id": "e679fd26",
   "metadata": {},
   "outputs": [
    {
     "data": {
      "text/plain": [
       "array(['Tuesday', 'Monday', 'Thursday', 'Friday', 'Wednesday', 'Saturday',\n",
       "       'Sunday', '0'], dtype=object)"
      ]
     },
     "execution_count": 33,
     "metadata": {},
     "output_type": "execute_result"
    }
   ],
   "source": [
    "df['DayOfWeekClaimed'].unique()"
   ]
  },
  {
   "cell_type": "code",
   "execution_count": 34,
   "id": "7162b49e",
   "metadata": {},
   "outputs": [],
   "source": [
    "df.loc[df['DayOfWeekClaimed']=='Monday', 'DayOfWeekClaimed'] = 1\n",
    "df.loc[df['DayOfWeekClaimed']=='Tuesday', 'DayOfWeekClaimed'] = 2\n",
    "df.loc[df['DayOfWeekClaimed']=='Wednesday', 'DayOfWeekClaimed'] = 3\n",
    "df.loc[df['DayOfWeekClaimed']=='Thursday', 'DayOfWeekClaimed'] = 4\n",
    "df.loc[df['DayOfWeekClaimed']=='Friday', 'DayOfWeekClaimed'] = 5\n",
    "df.loc[df['DayOfWeekClaimed']=='Saturday', 'DayOfWeekClaimed'] = 6\n",
    "df.loc[df['DayOfWeekClaimed']=='Sunday', 'DayOfWeekClaimed'] = 7\n",
    "df.loc[df['DayOfWeekClaimed']== '0', 'DayOfWeekClaimed'] = 8"
   ]
  },
  {
   "cell_type": "code",
   "execution_count": 35,
   "id": "3f7bfa0a",
   "metadata": {},
   "outputs": [
    {
     "data": {
      "text/plain": [
       "array(['Jan', 'Nov', 'Jul', 'Feb', 'Mar', 'Dec', 'Apr', 'Aug', 'May',\n",
       "       'Jun', 'Sep', 'Oct', '0'], dtype=object)"
      ]
     },
     "execution_count": 35,
     "metadata": {},
     "output_type": "execute_result"
    }
   ],
   "source": [
    "df['MonthClaimed'].unique()"
   ]
  },
  {
   "cell_type": "code",
   "execution_count": 36,
   "id": "50fd56cd",
   "metadata": {},
   "outputs": [],
   "source": [
    "df.loc[df['MonthClaimed']=='Jan', 'MonthClaimed'] = 1\n",
    "df.loc[df['MonthClaimed']=='Feb', 'MonthClaimed'] = 2\n",
    "df.loc[df['MonthClaimed']=='Mar', 'MonthClaimed'] = 3\n",
    "df.loc[df['MonthClaimed']=='Apr', 'MonthClaimed'] = 4\n",
    "df.loc[df['MonthClaimed']=='May', 'MonthClaimed'] = 5\n",
    "df.loc[df['MonthClaimed']=='Jun', 'MonthClaimed'] = 6\n",
    "df.loc[df['MonthClaimed']=='Jul', 'MonthClaimed'] = 7\n",
    "df.loc[df['MonthClaimed']=='Aug', 'MonthClaimed'] = 8\n",
    "df.loc[df['MonthClaimed']=='Sep', 'MonthClaimed'] = 9\n",
    "df.loc[df['MonthClaimed']=='Oct', 'MonthClaimed'] = 10\n",
    "df.loc[df['MonthClaimed']=='Nov', 'MonthClaimed'] = 11\n",
    "df.loc[df['MonthClaimed']=='Dec', 'MonthClaimed'] = 12\n",
    "df.loc[df['MonthClaimed']=='0', 'MonthClaimed'] = 13\n",
    "\n"
   ]
  },
  {
   "cell_type": "code",
   "execution_count": 37,
   "id": "8535c5db",
   "metadata": {},
   "outputs": [
    {
     "data": {
      "text/plain": [
       "array([1, 4, 2, 3, 5], dtype=int64)"
      ]
     },
     "execution_count": 37,
     "metadata": {},
     "output_type": "execute_result"
    }
   ],
   "source": [
    "df['WeekOfMonthClaimed'].unique()"
   ]
  },
  {
   "cell_type": "code",
   "execution_count": 38,
   "id": "70cc814d",
   "metadata": {},
   "outputs": [
    {
     "data": {
      "text/plain": [
       "array(['Female', 'Male'], dtype=object)"
      ]
     },
     "execution_count": 38,
     "metadata": {},
     "output_type": "execute_result"
    }
   ],
   "source": [
    "df['Sex'].unique()"
   ]
  },
  {
   "cell_type": "code",
   "execution_count": 39,
   "id": "6e66d455",
   "metadata": {},
   "outputs": [],
   "source": [
    "df.loc[df['Sex']=='Male', 'Sex'] = 1\n",
    "df.loc[df['Sex']=='Female', 'Sex'] = 2\n",
    " "
   ]
  },
  {
   "cell_type": "code",
   "execution_count": 40,
   "id": "67590293",
   "metadata": {},
   "outputs": [
    {
     "data": {
      "text/plain": [
       "array(['Single', 'Married', 'Widow', 'Divorced'], dtype=object)"
      ]
     },
     "execution_count": 40,
     "metadata": {},
     "output_type": "execute_result"
    }
   ],
   "source": [
    "df['MaritalStatus'].unique()"
   ]
  },
  {
   "cell_type": "code",
   "execution_count": 41,
   "id": "096938ab",
   "metadata": {},
   "outputs": [],
   "source": [
    "df.loc[df['MaritalStatus']=='Single', 'MaritalStatus'] = 1\n",
    "df.loc[df['MaritalStatus']=='Married', 'MaritalStatus'] = 2\n",
    "df.loc[df['MaritalStatus']=='Widow', 'MaritalStatus'] = 3\n",
    "df.loc[df['MaritalStatus']=='Divorced', 'MaritalStatus'] = 4\n",
    " "
   ]
  },
  {
   "cell_type": "code",
   "execution_count": 42,
   "id": "783d8ad7",
   "metadata": {},
   "outputs": [
    {
     "data": {
      "text/plain": [
       "array([21, 34, 47, 65, 27, 20, 36,  0, 30, 42, 71, 52, 28, 61, 38, 41, 32,\n",
       "       40, 63, 31, 45, 60, 39, 55, 35, 44, 72, 29, 37, 59, 49, 50, 26, 48,\n",
       "       64, 33, 74, 23, 25, 56, 16, 68, 18, 51, 22, 53, 46, 43, 57, 54, 69,\n",
       "       67, 19, 78, 77, 75, 80, 58, 73, 24, 76, 62, 79, 70, 17, 66],\n",
       "      dtype=int64)"
      ]
     },
     "execution_count": 42,
     "metadata": {},
     "output_type": "execute_result"
    }
   ],
   "source": [
    "df['Age'].unique()"
   ]
  },
  {
   "cell_type": "code",
   "execution_count": 43,
   "id": "8528e68a",
   "metadata": {},
   "outputs": [
    {
     "data": {
      "text/plain": [
       "array(['Policy Holder', 'Third Party'], dtype=object)"
      ]
     },
     "execution_count": 43,
     "metadata": {},
     "output_type": "execute_result"
    }
   ],
   "source": [
    "df['Fault'].unique()"
   ]
  },
  {
   "cell_type": "code",
   "execution_count": 44,
   "id": "9c3816aa",
   "metadata": {},
   "outputs": [],
   "source": [
    "df.loc[df['Fault']=='Policy Holder', 'Fault'] = 1\n",
    "df.loc[df['Fault']=='Third Party', 'Fault'] = 2\n",
    " "
   ]
  },
  {
   "cell_type": "code",
   "execution_count": 45,
   "id": "bff4bae0",
   "metadata": {},
   "outputs": [
    {
     "data": {
      "text/plain": [
       "array(['Sport - Liability', 'Sport - Collision', 'Sedan - Liability',\n",
       "       'Utility - All Perils', 'Sedan - All Perils', 'Sedan - Collision',\n",
       "       'Utility - Collision', 'Utility - Liability', 'Sport - All Perils'],\n",
       "      dtype=object)"
      ]
     },
     "execution_count": 45,
     "metadata": {},
     "output_type": "execute_result"
    }
   ],
   "source": [
    "df['PolicyType'].unique()"
   ]
  },
  {
   "cell_type": "code",
   "execution_count": 46,
   "id": "9c3e7259",
   "metadata": {},
   "outputs": [],
   "source": [
    "\n",
    "df.loc[df['PolicyType']=='Sport - Liability', 'PolicyType'] = 1\n",
    "df.loc[df['PolicyType']=='Sport - Collision', 'PolicyType'] = 2\n",
    "df.loc[df['PolicyType']=='Sedan - Liability', 'PolicyType'] = 3\n",
    "df.loc[df['PolicyType']=='Utility - All Perils', 'PolicyType'] = 4\n",
    "df.loc[df['PolicyType']=='Sedan - All Perils', 'PolicyType'] = 5\n",
    "df.loc[df['PolicyType']=='Sedan - Collision', 'PolicyType'] = 6\n",
    "df.loc[df['PolicyType']=='Utility - Collision', 'PolicyType'] = 7\n",
    "df.loc[df['PolicyType']=='Utility - Liability', 'PolicyType'] = 8\n",
    "df.loc[df['PolicyType']=='Sport - All Perils', 'PolicyType'] = 9\n"
   ]
  },
  {
   "cell_type": "code",
   "execution_count": 47,
   "id": "9eaa8a37",
   "metadata": {},
   "outputs": [
    {
     "data": {
      "text/plain": [
       "array(['Sport', 'Utility', 'Sedan'], dtype=object)"
      ]
     },
     "execution_count": 47,
     "metadata": {},
     "output_type": "execute_result"
    }
   ],
   "source": [
    "df['VehicleCategory'].unique()"
   ]
  },
  {
   "cell_type": "code",
   "execution_count": 48,
   "id": "43c24c5b",
   "metadata": {},
   "outputs": [],
   "source": [
    "df.loc[df['VehicleCategory']=='Sport', 'VehicleCategory'] = 1\n",
    "df.loc[df['VehicleCategory']=='Utility', 'VehicleCategory'] = 2\n",
    "df.loc[df['VehicleCategory']=='Sedan', 'VehicleCategory'] = 3\n",
    " "
   ]
  },
  {
   "cell_type": "code",
   "execution_count": 49,
   "id": "ef79ed92",
   "metadata": {},
   "outputs": [
    {
     "data": {
      "text/plain": [
       "array(['more than 69000', '20000 to 29000', '30000 to 39000',\n",
       "       'less than 20000', '40000 to 59000', '60000 to 69000'],\n",
       "      dtype=object)"
      ]
     },
     "execution_count": 49,
     "metadata": {},
     "output_type": "execute_result"
    }
   ],
   "source": [
    "df['VehiclePrice'].unique()"
   ]
  },
  {
   "cell_type": "code",
   "execution_count": 50,
   "id": "6d2740ef",
   "metadata": {},
   "outputs": [],
   "source": [
    "df.loc[df['VehiclePrice']=='more than 69000', 'VehiclePrice'] = 1\n",
    "df.loc[df['VehiclePrice']=='20000 to 29000', 'VehiclePrice'] = 2\n",
    "df.loc[df['VehiclePrice']=='30000 to 39000', 'VehiclePrice'] = 3\n",
    "df.loc[df['VehiclePrice']=='less than 20000', 'VehiclePrice'] = 4\n",
    "df.loc[df['VehiclePrice']=='40000 to 59000', 'VehiclePrice'] = 5\n",
    "df.loc[df['VehiclePrice']=='60000 to 69000', 'VehiclePrice'] = 6"
   ]
  },
  {
   "cell_type": "code",
   "execution_count": 51,
   "id": "73a237da",
   "metadata": {},
   "outputs": [
    {
     "data": {
      "text/plain": [
       "array([0, 1], dtype=int64)"
      ]
     },
     "execution_count": 51,
     "metadata": {},
     "output_type": "execute_result"
    }
   ],
   "source": [
    "df['FraudFound_P'].unique()"
   ]
  },
  {
   "cell_type": "code",
   "execution_count": 52,
   "id": "48f2be56",
   "metadata": {},
   "outputs": [
    {
     "data": {
      "text/plain": [
       "array([    1,     2,     3, ..., 15418, 15419, 15420], dtype=int64)"
      ]
     },
     "execution_count": 52,
     "metadata": {},
     "output_type": "execute_result"
    }
   ],
   "source": [
    "df['PolicyNumber'].unique()"
   ]
  },
  {
   "cell_type": "code",
   "execution_count": 53,
   "id": "13a3179a",
   "metadata": {},
   "outputs": [
    {
     "data": {
      "text/plain": [
       "array([12, 15,  7,  4,  3, 14,  1, 13, 11, 16,  6,  2,  8,  5,  9, 10],\n",
       "      dtype=int64)"
      ]
     },
     "execution_count": 53,
     "metadata": {},
     "output_type": "execute_result"
    }
   ],
   "source": [
    "df['RepNumber'].unique()"
   ]
  },
  {
   "cell_type": "code",
   "execution_count": 54,
   "id": "929c9763",
   "metadata": {},
   "outputs": [
    {
     "data": {
      "text/plain": [
       "array([300, 400, 500, 700], dtype=int64)"
      ]
     },
     "execution_count": 54,
     "metadata": {},
     "output_type": "execute_result"
    }
   ],
   "source": [
    "df['Deductible'].unique()"
   ]
  },
  {
   "cell_type": "code",
   "execution_count": 55,
   "id": "96c63692",
   "metadata": {},
   "outputs": [
    {
     "data": {
      "text/plain": [
       "array([1, 4, 3, 2], dtype=int64)"
      ]
     },
     "execution_count": 55,
     "metadata": {},
     "output_type": "execute_result"
    }
   ],
   "source": [
    "df['DriverRating'].unique()"
   ]
  },
  {
   "cell_type": "code",
   "execution_count": 56,
   "id": "d772bd9f",
   "metadata": {},
   "outputs": [
    {
     "data": {
      "text/plain": [
       "array(['more than 30', '15 to 30', 'none', '1 to 7', '8 to 15'],\n",
       "      dtype=object)"
      ]
     },
     "execution_count": 56,
     "metadata": {},
     "output_type": "execute_result"
    }
   ],
   "source": [
    "df['Days_Policy_Accident'].unique()"
   ]
  },
  {
   "cell_type": "code",
   "execution_count": 57,
   "id": "c7c464ae",
   "metadata": {},
   "outputs": [],
   "source": [
    "df.loc[df['Days_Policy_Accident']=='more than 30', 'Days_Policy_Accident'] = 1\n",
    "df.loc[df['Days_Policy_Accident']=='15 to 30', 'Days_Policy_Accident'] = 2\n",
    "df.loc[df['Days_Policy_Accident']=='1 to 7', 'Days_Policy_Accident'] = 3\n",
    "df.loc[df['Days_Policy_Accident']=='8 to 15', 'Days_Policy_Accident'] = 4\n",
    "df.loc[df['Days_Policy_Accident']=='none', 'Days_Policy_Accident'] = 5"
   ]
  },
  {
   "cell_type": "code",
   "execution_count": 58,
   "id": "051fe013",
   "metadata": {},
   "outputs": [
    {
     "data": {
      "text/plain": [
       "array(['more than 30', '15 to 30', '8 to 15', 'none'], dtype=object)"
      ]
     },
     "execution_count": 58,
     "metadata": {},
     "output_type": "execute_result"
    }
   ],
   "source": [
    "df['Days_Policy_Claim'].unique()"
   ]
  },
  {
   "cell_type": "code",
   "execution_count": 59,
   "id": "e85add1b",
   "metadata": {},
   "outputs": [],
   "source": [
    "df.loc[df['Days_Policy_Claim']=='more than 30', 'Days_Policy_Claim'] = 1\n",
    "df.loc[df['Days_Policy_Claim']=='15 to 30', 'Days_Policy_Claim'] = 2\n",
    "df.loc[df['Days_Policy_Claim']=='none', 'Days_Policy_Claim'] = 3\n",
    "df.loc[df['Days_Policy_Claim']=='8 to 15', 'Days_Policy_Claim'] = 4\n"
   ]
  },
  {
   "cell_type": "code",
   "execution_count": 60,
   "id": "09ab55ce",
   "metadata": {},
   "outputs": [
    {
     "data": {
      "text/plain": [
       "array(['none', '1', '2 to 4', 'more than 4'], dtype=object)"
      ]
     },
     "execution_count": 60,
     "metadata": {},
     "output_type": "execute_result"
    }
   ],
   "source": [
    "df['PastNumberOfClaims'].unique()"
   ]
  },
  {
   "cell_type": "code",
   "execution_count": 61,
   "id": "185569c7",
   "metadata": {},
   "outputs": [],
   "source": [
    "df.loc[df['PastNumberOfClaims']=='more than 4', 'PastNumberOfClaims'] = 1\n",
    "df.loc[df['PastNumberOfClaims']=='2 to 4', 'PastNumberOfClaims'] = 2\n",
    "df.loc[df['PastNumberOfClaims']=='none', 'PastNumberOfClaims'] = 3\n",
    "df.loc[df['PastNumberOfClaims']=='1', 'PastNumberOfClaims'] = 4\n"
   ]
  },
  {
   "cell_type": "code",
   "execution_count": 62,
   "id": "f2e9f8e9",
   "metadata": {},
   "outputs": [
    {
     "data": {
      "text/plain": [
       "array(['3 years', '6 years', '7 years', 'more than 7', '5 years', 'new',\n",
       "       '4 years', '2 years'], dtype=object)"
      ]
     },
     "execution_count": 62,
     "metadata": {},
     "output_type": "execute_result"
    }
   ],
   "source": [
    "df['AgeOfVehicle'].unique()"
   ]
  },
  {
   "cell_type": "code",
   "execution_count": 63,
   "id": "2a69fc0b",
   "metadata": {},
   "outputs": [],
   "source": [
    "\n",
    "df.loc[df['AgeOfVehicle']=='3 years', 'AgeOfVehicle'] = 1\n",
    "df.loc[df['AgeOfVehicle']=='6 years', 'AgeOfVehicle'] = 2\n",
    "df.loc[df['AgeOfVehicle']=='7 years', 'AgeOfVehicle'] = 3\n",
    "df.loc[df['AgeOfVehicle']=='more than 7', 'AgeOfVehicle'] = 4\n",
    "df.loc[df['AgeOfVehicle']=='5 years', 'AgeOfVehicle'] = 5\n",
    "df.loc[df['AgeOfVehicle']=='new', 'AgeOfVehicle'] = 6\n",
    "df.loc[df['AgeOfVehicle']=='4 years', 'AgeOfVehicle'] = 7\n",
    "df.loc[df['AgeOfVehicle']=='2 years', 'AgeOfVehicle'] = 8\n"
   ]
  },
  {
   "cell_type": "code",
   "execution_count": 64,
   "id": "072a638e",
   "metadata": {},
   "outputs": [
    {
     "data": {
      "text/plain": [
       "array(['26 to 30', '31 to 35', '41 to 50', '51 to 65', '21 to 25',\n",
       "       '36 to 40', '16 to 17', 'over 65', '18 to 20'], dtype=object)"
      ]
     },
     "execution_count": 64,
     "metadata": {},
     "output_type": "execute_result"
    }
   ],
   "source": [
    "df['AgeOfPolicyHolder'].unique()"
   ]
  },
  {
   "cell_type": "code",
   "execution_count": 65,
   "id": "3df22b84",
   "metadata": {},
   "outputs": [],
   "source": [
    "\n",
    "df.loc[df['AgeOfPolicyHolder']=='26 to 30', 'AgeOfPolicyHolder'] = 1\n",
    "df.loc[df['AgeOfPolicyHolder']=='31 to 35', 'AgeOfPolicyHolder'] = 2\n",
    "df.loc[df['AgeOfPolicyHolder']=='41 to 50', 'AgeOfPolicyHolder'] = 3\n",
    "df.loc[df['AgeOfPolicyHolder']=='51 to 65', 'AgeOfPolicyHolder'] = 4\n",
    "df.loc[df['AgeOfPolicyHolder']=='21 to 25', 'AgeOfPolicyHolder'] = 5\n",
    "df.loc[df['AgeOfPolicyHolder']=='36 to 40', 'AgeOfPolicyHolder'] = 6\n",
    "df.loc[df['AgeOfPolicyHolder']=='16 to 17', 'AgeOfPolicyHolder'] = 7\n",
    "df.loc[df['AgeOfPolicyHolder']=='over 65', 'AgeOfPolicyHolder'] = 8\n",
    "df.loc[df['AgeOfPolicyHolder']=='18 to 20', 'AgeOfPolicyHolder'] = 9"
   ]
  },
  {
   "cell_type": "code",
   "execution_count": 66,
   "id": "63b9e27b",
   "metadata": {},
   "outputs": [
    {
     "data": {
      "text/plain": [
       "array(['No', 'Yes'], dtype=object)"
      ]
     },
     "execution_count": 66,
     "metadata": {},
     "output_type": "execute_result"
    }
   ],
   "source": [
    "df['PoliceReportFiled'].unique()"
   ]
  },
  {
   "cell_type": "code",
   "execution_count": 67,
   "id": "3ffe3e01",
   "metadata": {},
   "outputs": [],
   "source": [
    "\n",
    "df.loc[df['PoliceReportFiled']=='Yes', 'PoliceReportFiled'] = 1\n",
    "df.loc[df['PoliceReportFiled']=='No', 'PoliceReportFiled'] = 2"
   ]
  },
  {
   "cell_type": "code",
   "execution_count": 68,
   "id": "85b893e0",
   "metadata": {},
   "outputs": [
    {
     "data": {
      "text/plain": [
       "array(['No', 'Yes'], dtype=object)"
      ]
     },
     "execution_count": 68,
     "metadata": {},
     "output_type": "execute_result"
    }
   ],
   "source": [
    "df['WitnessPresent'].unique()"
   ]
  },
  {
   "cell_type": "code",
   "execution_count": 69,
   "id": "4874d2d3",
   "metadata": {},
   "outputs": [],
   "source": [
    "\n",
    "df.loc[df['WitnessPresent']=='Yes', 'WitnessPresent'] = 1\n",
    "df.loc[df['WitnessPresent']=='No', 'WitnessPresent'] = 2"
   ]
  },
  {
   "cell_type": "code",
   "execution_count": 70,
   "id": "6697419c",
   "metadata": {},
   "outputs": [
    {
     "data": {
      "text/plain": [
       "array(['External', 'Internal'], dtype=object)"
      ]
     },
     "execution_count": 70,
     "metadata": {},
     "output_type": "execute_result"
    }
   ],
   "source": [
    "df['AgentType'].unique()"
   ]
  },
  {
   "cell_type": "code",
   "execution_count": 71,
   "id": "6a93d217",
   "metadata": {},
   "outputs": [],
   "source": [
    "df.loc[df['AgentType']=='Internal', 'AgentType'] = 1\n",
    "df.loc[df['AgentType']=='External', 'AgentType'] = 2"
   ]
  },
  {
   "cell_type": "code",
   "execution_count": 72,
   "id": "79ef0bf5",
   "metadata": {},
   "outputs": [
    {
     "data": {
      "text/plain": [
       "array(['none', 'more than 5', '3 to 5', '1 to 2'], dtype=object)"
      ]
     },
     "execution_count": 72,
     "metadata": {},
     "output_type": "execute_result"
    }
   ],
   "source": [
    "df['NumberOfSuppliments'].unique()"
   ]
  },
  {
   "cell_type": "code",
   "execution_count": 73,
   "id": "6624b1b8",
   "metadata": {},
   "outputs": [],
   "source": [
    "df.loc[df['NumberOfSuppliments']=='none', 'NumberOfSuppliments'] = 1\n",
    "df.loc[df['NumberOfSuppliments']=='more than 5', 'NumberOfSuppliments'] = 2\n",
    "df.loc[df['NumberOfSuppliments']=='3 to 5', 'NumberOfSuppliments'] = 3\n",
    "df.loc[df['NumberOfSuppliments']=='1 to 2', 'NumberOfSuppliments'] = 4\n"
   ]
  },
  {
   "cell_type": "code",
   "execution_count": 74,
   "id": "9f2305cc",
   "metadata": {},
   "outputs": [
    {
     "data": {
      "text/plain": [
       "array(['1 year', 'no change', '4 to 8 years', '2 to 3 years',\n",
       "       'under 6 months'], dtype=object)"
      ]
     },
     "execution_count": 74,
     "metadata": {},
     "output_type": "execute_result"
    }
   ],
   "source": [
    "df['AddressChange_Claim'].unique()"
   ]
  },
  {
   "cell_type": "code",
   "execution_count": 75,
   "id": "81193081",
   "metadata": {},
   "outputs": [],
   "source": [
    "df.loc[df['AddressChange_Claim']=='1 year', 'AddressChange_Claim'] = 1\n",
    "df.loc[df['AddressChange_Claim']=='no change', 'AddressChange_Claim'] = 2\n",
    "df.loc[df['AddressChange_Claim']=='4 to 8 years', 'AddressChange_Claim'] = 3\n",
    "df.loc[df['AddressChange_Claim']=='2 to 3 years', 'AddressChange_Claim'] = 4\n",
    "df.loc[df['AddressChange_Claim']=='under 6 months', 'AddressChange_Claim'] = 5"
   ]
  },
  {
   "cell_type": "code",
   "execution_count": 76,
   "id": "e525adfd",
   "metadata": {},
   "outputs": [
    {
     "data": {
      "text/plain": [
       "array(['3 to 4', '1 vehicle', '2 vehicles', '5 to 8', 'more than 8'],\n",
       "      dtype=object)"
      ]
     },
     "execution_count": 76,
     "metadata": {},
     "output_type": "execute_result"
    }
   ],
   "source": [
    "df['NumberOfCars'].unique()"
   ]
  },
  {
   "cell_type": "code",
   "execution_count": 77,
   "id": "b22919d1",
   "metadata": {},
   "outputs": [],
   "source": [
    "df.loc[df['NumberOfCars']=='3 to 4', 'NumberOfCars'] = 1\n",
    "df.loc[df['NumberOfCars']=='1 vehicle', 'NumberOfCars'] = 2\n",
    "df.loc[df['NumberOfCars']=='2 vehicles', 'NumberOfCars'] = 3\n",
    "df.loc[df['NumberOfCars']=='5 to 8', 'NumberOfCars'] = 4\n",
    "df.loc[df['NumberOfCars']=='more than 8', 'NumberOfCars'] = 5"
   ]
  },
  {
   "cell_type": "code",
   "execution_count": 78,
   "id": "6a91b2b6",
   "metadata": {},
   "outputs": [
    {
     "data": {
      "text/plain": [
       "array([1994, 1995, 1996], dtype=int64)"
      ]
     },
     "execution_count": 78,
     "metadata": {},
     "output_type": "execute_result"
    }
   ],
   "source": [
    "df['Year'].unique()"
   ]
  },
  {
   "cell_type": "code",
   "execution_count": 79,
   "id": "df91c7d3",
   "metadata": {},
   "outputs": [],
   "source": [
    "df.loc[df['Year']=='1994', 'Year'] = 1\n",
    "df.loc[df['Year']=='1994', 'Year'] = 2\n",
    "df.loc[df['Year']=='1994', 'Year'] = 3"
   ]
  },
  {
   "cell_type": "code",
   "execution_count": 80,
   "id": "33b1fa04",
   "metadata": {},
   "outputs": [
    {
     "data": {
      "text/plain": [
       "array(['Liability', 'Collision', 'All Perils'], dtype=object)"
      ]
     },
     "execution_count": 80,
     "metadata": {},
     "output_type": "execute_result"
    }
   ],
   "source": [
    "df['BasePolicy'].unique()"
   ]
  },
  {
   "cell_type": "code",
   "execution_count": 81,
   "id": "7942848f",
   "metadata": {},
   "outputs": [],
   "source": [
    "df.loc[df['BasePolicy']=='Collision', 'BasePolicy'] = 1\n",
    "df.loc[df['BasePolicy']=='Liability', 'BasePolicy'] = 2\n",
    "df.loc[df['BasePolicy']=='All Perils', 'BasePolicy'] = 3"
   ]
  },
  {
   "cell_type": "code",
   "execution_count": 82,
   "id": "f14ec75e",
   "metadata": {},
   "outputs": [],
   "source": [
    "\n",
    "\n",
    "X = df[[\"Month\",\"WeekOfMonth\",\"DayOfWeek\",\"Make\",\"AccidentArea\",\"MonthClaimed\",\"WeekOfMonthClaimed\",\"Sex\",\"MaritalStatus\",\"Age\",\"PolicyType\",\"VehicleCategory\",\"VehiclePrice\",\"Deductible\",\"DriverRating\",\"Days_Policy_Accident\",\"Days_Policy_Claim\",\"AgeOfVehicle\",\"AgeOfPolicyHolder\",\"PoliceReportFiled\",\"WitnessPresent\",\"NumberOfCars\",\"Year\",\"BasePolicy\"]]"
   ]
  },
  {
   "cell_type": "code",
   "execution_count": 83,
   "id": "69a25069",
   "metadata": {},
   "outputs": [
    {
     "data": {
      "text/html": [
       "<div>\n",
       "<style scoped>\n",
       "    .dataframe tbody tr th:only-of-type {\n",
       "        vertical-align: middle;\n",
       "    }\n",
       "\n",
       "    .dataframe tbody tr th {\n",
       "        vertical-align: top;\n",
       "    }\n",
       "\n",
       "    .dataframe thead th {\n",
       "        text-align: right;\n",
       "    }\n",
       "</style>\n",
       "<table border=\"1\" class=\"dataframe\">\n",
       "  <thead>\n",
       "    <tr style=\"text-align: right;\">\n",
       "      <th></th>\n",
       "      <th>Month</th>\n",
       "      <th>WeekOfMonth</th>\n",
       "      <th>DayOfWeek</th>\n",
       "      <th>Make</th>\n",
       "      <th>AccidentArea</th>\n",
       "      <th>MonthClaimed</th>\n",
       "      <th>WeekOfMonthClaimed</th>\n",
       "      <th>Sex</th>\n",
       "      <th>MaritalStatus</th>\n",
       "      <th>Age</th>\n",
       "      <th>...</th>\n",
       "      <th>DriverRating</th>\n",
       "      <th>Days_Policy_Accident</th>\n",
       "      <th>Days_Policy_Claim</th>\n",
       "      <th>AgeOfVehicle</th>\n",
       "      <th>AgeOfPolicyHolder</th>\n",
       "      <th>PoliceReportFiled</th>\n",
       "      <th>WitnessPresent</th>\n",
       "      <th>NumberOfCars</th>\n",
       "      <th>Year</th>\n",
       "      <th>BasePolicy</th>\n",
       "    </tr>\n",
       "  </thead>\n",
       "  <tbody>\n",
       "    <tr>\n",
       "      <th>0</th>\n",
       "      <td>12</td>\n",
       "      <td>5</td>\n",
       "      <td>3</td>\n",
       "      <td>1</td>\n",
       "      <td>1</td>\n",
       "      <td>1</td>\n",
       "      <td>1</td>\n",
       "      <td>2</td>\n",
       "      <td>1</td>\n",
       "      <td>21</td>\n",
       "      <td>...</td>\n",
       "      <td>1</td>\n",
       "      <td>1</td>\n",
       "      <td>1</td>\n",
       "      <td>1</td>\n",
       "      <td>1</td>\n",
       "      <td>2</td>\n",
       "      <td>2</td>\n",
       "      <td>1</td>\n",
       "      <td>1994</td>\n",
       "      <td>2</td>\n",
       "    </tr>\n",
       "    <tr>\n",
       "      <th>1</th>\n",
       "      <td>1</td>\n",
       "      <td>3</td>\n",
       "      <td>3</td>\n",
       "      <td>1</td>\n",
       "      <td>1</td>\n",
       "      <td>1</td>\n",
       "      <td>4</td>\n",
       "      <td>1</td>\n",
       "      <td>1</td>\n",
       "      <td>34</td>\n",
       "      <td>...</td>\n",
       "      <td>4</td>\n",
       "      <td>1</td>\n",
       "      <td>1</td>\n",
       "      <td>2</td>\n",
       "      <td>2</td>\n",
       "      <td>1</td>\n",
       "      <td>2</td>\n",
       "      <td>2</td>\n",
       "      <td>1994</td>\n",
       "      <td>1</td>\n",
       "    </tr>\n",
       "    <tr>\n",
       "      <th>2</th>\n",
       "      <td>10</td>\n",
       "      <td>5</td>\n",
       "      <td>5</td>\n",
       "      <td>1</td>\n",
       "      <td>1</td>\n",
       "      <td>11</td>\n",
       "      <td>2</td>\n",
       "      <td>1</td>\n",
       "      <td>2</td>\n",
       "      <td>47</td>\n",
       "      <td>...</td>\n",
       "      <td>3</td>\n",
       "      <td>1</td>\n",
       "      <td>1</td>\n",
       "      <td>3</td>\n",
       "      <td>3</td>\n",
       "      <td>2</td>\n",
       "      <td>2</td>\n",
       "      <td>2</td>\n",
       "      <td>1994</td>\n",
       "      <td>1</td>\n",
       "    </tr>\n",
       "    <tr>\n",
       "      <th>3</th>\n",
       "      <td>6</td>\n",
       "      <td>2</td>\n",
       "      <td>6</td>\n",
       "      <td>2</td>\n",
       "      <td>2</td>\n",
       "      <td>7</td>\n",
       "      <td>1</td>\n",
       "      <td>1</td>\n",
       "      <td>2</td>\n",
       "      <td>65</td>\n",
       "      <td>...</td>\n",
       "      <td>2</td>\n",
       "      <td>1</td>\n",
       "      <td>1</td>\n",
       "      <td>4</td>\n",
       "      <td>4</td>\n",
       "      <td>1</td>\n",
       "      <td>2</td>\n",
       "      <td>2</td>\n",
       "      <td>1994</td>\n",
       "      <td>2</td>\n",
       "    </tr>\n",
       "    <tr>\n",
       "      <th>4</th>\n",
       "      <td>1</td>\n",
       "      <td>5</td>\n",
       "      <td>1</td>\n",
       "      <td>1</td>\n",
       "      <td>1</td>\n",
       "      <td>2</td>\n",
       "      <td>2</td>\n",
       "      <td>2</td>\n",
       "      <td>1</td>\n",
       "      <td>27</td>\n",
       "      <td>...</td>\n",
       "      <td>1</td>\n",
       "      <td>1</td>\n",
       "      <td>1</td>\n",
       "      <td>5</td>\n",
       "      <td>2</td>\n",
       "      <td>2</td>\n",
       "      <td>2</td>\n",
       "      <td>2</td>\n",
       "      <td>1994</td>\n",
       "      <td>1</td>\n",
       "    </tr>\n",
       "    <tr>\n",
       "      <th>...</th>\n",
       "      <td>...</td>\n",
       "      <td>...</td>\n",
       "      <td>...</td>\n",
       "      <td>...</td>\n",
       "      <td>...</td>\n",
       "      <td>...</td>\n",
       "      <td>...</td>\n",
       "      <td>...</td>\n",
       "      <td>...</td>\n",
       "      <td>...</td>\n",
       "      <td>...</td>\n",
       "      <td>...</td>\n",
       "      <td>...</td>\n",
       "      <td>...</td>\n",
       "      <td>...</td>\n",
       "      <td>...</td>\n",
       "      <td>...</td>\n",
       "      <td>...</td>\n",
       "      <td>...</td>\n",
       "      <td>...</td>\n",
       "      <td>...</td>\n",
       "    </tr>\n",
       "    <tr>\n",
       "      <th>15415</th>\n",
       "      <td>11</td>\n",
       "      <td>4</td>\n",
       "      <td>5</td>\n",
       "      <td>2</td>\n",
       "      <td>1</td>\n",
       "      <td>11</td>\n",
       "      <td>5</td>\n",
       "      <td>1</td>\n",
       "      <td>2</td>\n",
       "      <td>35</td>\n",
       "      <td>...</td>\n",
       "      <td>4</td>\n",
       "      <td>1</td>\n",
       "      <td>1</td>\n",
       "      <td>2</td>\n",
       "      <td>2</td>\n",
       "      <td>2</td>\n",
       "      <td>2</td>\n",
       "      <td>2</td>\n",
       "      <td>1996</td>\n",
       "      <td>1</td>\n",
       "    </tr>\n",
       "    <tr>\n",
       "      <th>15416</th>\n",
       "      <td>11</td>\n",
       "      <td>5</td>\n",
       "      <td>4</td>\n",
       "      <td>6</td>\n",
       "      <td>1</td>\n",
       "      <td>12</td>\n",
       "      <td>1</td>\n",
       "      <td>1</td>\n",
       "      <td>2</td>\n",
       "      <td>30</td>\n",
       "      <td>...</td>\n",
       "      <td>3</td>\n",
       "      <td>1</td>\n",
       "      <td>1</td>\n",
       "      <td>2</td>\n",
       "      <td>2</td>\n",
       "      <td>2</td>\n",
       "      <td>2</td>\n",
       "      <td>1</td>\n",
       "      <td>1996</td>\n",
       "      <td>2</td>\n",
       "    </tr>\n",
       "    <tr>\n",
       "      <th>15417</th>\n",
       "      <td>11</td>\n",
       "      <td>5</td>\n",
       "      <td>4</td>\n",
       "      <td>2</td>\n",
       "      <td>2</td>\n",
       "      <td>12</td>\n",
       "      <td>1</td>\n",
       "      <td>1</td>\n",
       "      <td>1</td>\n",
       "      <td>24</td>\n",
       "      <td>...</td>\n",
       "      <td>4</td>\n",
       "      <td>1</td>\n",
       "      <td>1</td>\n",
       "      <td>5</td>\n",
       "      <td>1</td>\n",
       "      <td>2</td>\n",
       "      <td>2</td>\n",
       "      <td>2</td>\n",
       "      <td>1996</td>\n",
       "      <td>1</td>\n",
       "    </tr>\n",
       "    <tr>\n",
       "      <th>15418</th>\n",
       "      <td>12</td>\n",
       "      <td>1</td>\n",
       "      <td>1</td>\n",
       "      <td>2</td>\n",
       "      <td>1</td>\n",
       "      <td>12</td>\n",
       "      <td>2</td>\n",
       "      <td>2</td>\n",
       "      <td>2</td>\n",
       "      <td>34</td>\n",
       "      <td>...</td>\n",
       "      <td>4</td>\n",
       "      <td>1</td>\n",
       "      <td>1</td>\n",
       "      <td>8</td>\n",
       "      <td>2</td>\n",
       "      <td>2</td>\n",
       "      <td>2</td>\n",
       "      <td>2</td>\n",
       "      <td>1996</td>\n",
       "      <td>3</td>\n",
       "    </tr>\n",
       "    <tr>\n",
       "      <th>15419</th>\n",
       "      <td>12</td>\n",
       "      <td>2</td>\n",
       "      <td>3</td>\n",
       "      <td>2</td>\n",
       "      <td>1</td>\n",
       "      <td>12</td>\n",
       "      <td>3</td>\n",
       "      <td>1</td>\n",
       "      <td>1</td>\n",
       "      <td>21</td>\n",
       "      <td>...</td>\n",
       "      <td>4</td>\n",
       "      <td>1</td>\n",
       "      <td>1</td>\n",
       "      <td>5</td>\n",
       "      <td>1</td>\n",
       "      <td>2</td>\n",
       "      <td>2</td>\n",
       "      <td>2</td>\n",
       "      <td>1996</td>\n",
       "      <td>1</td>\n",
       "    </tr>\n",
       "  </tbody>\n",
       "</table>\n",
       "<p>15420 rows × 24 columns</p>\n",
       "</div>"
      ],
      "text/plain": [
       "      Month  WeekOfMonth DayOfWeek Make AccidentArea MonthClaimed  \\\n",
       "0        12            5         3    1            1            1   \n",
       "1         1            3         3    1            1            1   \n",
       "2        10            5         5    1            1           11   \n",
       "3         6            2         6    2            2            7   \n",
       "4         1            5         1    1            1            2   \n",
       "...     ...          ...       ...  ...          ...          ...   \n",
       "15415    11            4         5    2            1           11   \n",
       "15416    11            5         4    6            1           12   \n",
       "15417    11            5         4    2            2           12   \n",
       "15418    12            1         1    2            1           12   \n",
       "15419    12            2         3    2            1           12   \n",
       "\n",
       "       WeekOfMonthClaimed Sex MaritalStatus  Age  ... DriverRating  \\\n",
       "0                       1   2             1   21  ...            1   \n",
       "1                       4   1             1   34  ...            4   \n",
       "2                       2   1             2   47  ...            3   \n",
       "3                       1   1             2   65  ...            2   \n",
       "4                       2   2             1   27  ...            1   \n",
       "...                   ...  ..           ...  ...  ...          ...   \n",
       "15415                   5   1             2   35  ...            4   \n",
       "15416                   1   1             2   30  ...            3   \n",
       "15417                   1   1             1   24  ...            4   \n",
       "15418                   2   2             2   34  ...            4   \n",
       "15419                   3   1             1   21  ...            4   \n",
       "\n",
       "      Days_Policy_Accident Days_Policy_Claim  AgeOfVehicle  AgeOfPolicyHolder  \\\n",
       "0                        1                 1             1                  1   \n",
       "1                        1                 1             2                  2   \n",
       "2                        1                 1             3                  3   \n",
       "3                        1                 1             4                  4   \n",
       "4                        1                 1             5                  2   \n",
       "...                    ...               ...           ...                ...   \n",
       "15415                    1                 1             2                  2   \n",
       "15416                    1                 1             2                  2   \n",
       "15417                    1                 1             5                  1   \n",
       "15418                    1                 1             8                  2   \n",
       "15419                    1                 1             5                  1   \n",
       "\n",
       "      PoliceReportFiled WitnessPresent NumberOfCars  Year BasePolicy  \n",
       "0                     2              2            1  1994          2  \n",
       "1                     1              2            2  1994          1  \n",
       "2                     2              2            2  1994          1  \n",
       "3                     1              2            2  1994          2  \n",
       "4                     2              2            2  1994          1  \n",
       "...                 ...            ...          ...   ...        ...  \n",
       "15415                 2              2            2  1996          1  \n",
       "15416                 2              2            1  1996          2  \n",
       "15417                 2              2            2  1996          1  \n",
       "15418                 2              2            2  1996          3  \n",
       "15419                 2              2            2  1996          1  \n",
       "\n",
       "[15420 rows x 24 columns]"
      ]
     },
     "execution_count": 83,
     "metadata": {},
     "output_type": "execute_result"
    }
   ],
   "source": [
    "X"
   ]
  },
  {
   "cell_type": "code",
   "execution_count": 84,
   "id": "cd2f0e6a",
   "metadata": {},
   "outputs": [],
   "source": [
    "y = df[\"FraudFound_P\"]"
   ]
  },
  {
   "cell_type": "code",
   "execution_count": 85,
   "id": "040f4d3c",
   "metadata": {},
   "outputs": [],
   "source": [
    "# df = pd.DataFrame(X)\n",
    "\n",
    "# df.to_csv (r'E:/real estate price prediction/ss.csv', index = False, header=True)"
   ]
  },
  {
   "cell_type": "code",
   "execution_count": 86,
   "id": "a0d58178",
   "metadata": {},
   "outputs": [],
   "source": [
    "from sklearn.model_selection import train_test_split\n",
    "x_train, X_test, y_train, y_test =train_test_split(X, y, test_size=0.3)"
   ]
  },
  {
   "cell_type": "code",
   "execution_count": 87,
   "id": "5395dd4a",
   "metadata": {},
   "outputs": [],
   "source": [
    "from sklearn.ensemble import RandomForestClassifier"
   ]
  },
  {
   "cell_type": "code",
   "execution_count": 88,
   "id": "b9af9b10",
   "metadata": {},
   "outputs": [
    {
     "data": {
      "text/html": [
       "<div>\n",
       "<style scoped>\n",
       "    .dataframe tbody tr th:only-of-type {\n",
       "        vertical-align: middle;\n",
       "    }\n",
       "\n",
       "    .dataframe tbody tr th {\n",
       "        vertical-align: top;\n",
       "    }\n",
       "\n",
       "    .dataframe thead th {\n",
       "        text-align: right;\n",
       "    }\n",
       "</style>\n",
       "<table border=\"1\" class=\"dataframe\">\n",
       "  <thead>\n",
       "    <tr style=\"text-align: right;\">\n",
       "      <th></th>\n",
       "      <th>Month</th>\n",
       "      <th>WeekOfMonth</th>\n",
       "      <th>DayOfWeek</th>\n",
       "      <th>Make</th>\n",
       "      <th>AccidentArea</th>\n",
       "      <th>MonthClaimed</th>\n",
       "      <th>WeekOfMonthClaimed</th>\n",
       "      <th>Sex</th>\n",
       "      <th>MaritalStatus</th>\n",
       "      <th>Age</th>\n",
       "      <th>...</th>\n",
       "      <th>DriverRating</th>\n",
       "      <th>Days_Policy_Accident</th>\n",
       "      <th>Days_Policy_Claim</th>\n",
       "      <th>AgeOfVehicle</th>\n",
       "      <th>AgeOfPolicyHolder</th>\n",
       "      <th>PoliceReportFiled</th>\n",
       "      <th>WitnessPresent</th>\n",
       "      <th>NumberOfCars</th>\n",
       "      <th>Year</th>\n",
       "      <th>BasePolicy</th>\n",
       "    </tr>\n",
       "  </thead>\n",
       "  <tbody>\n",
       "    <tr>\n",
       "      <th>12871</th>\n",
       "      <td>3</td>\n",
       "      <td>2</td>\n",
       "      <td>2</td>\n",
       "      <td>2</td>\n",
       "      <td>1</td>\n",
       "      <td>3</td>\n",
       "      <td>4</td>\n",
       "      <td>1</td>\n",
       "      <td>2</td>\n",
       "      <td>76</td>\n",
       "      <td>...</td>\n",
       "      <td>3</td>\n",
       "      <td>1</td>\n",
       "      <td>1</td>\n",
       "      <td>4</td>\n",
       "      <td>8</td>\n",
       "      <td>2</td>\n",
       "      <td>2</td>\n",
       "      <td>2</td>\n",
       "      <td>1996</td>\n",
       "      <td>1</td>\n",
       "    </tr>\n",
       "    <tr>\n",
       "      <th>15334</th>\n",
       "      <td>1</td>\n",
       "      <td>4</td>\n",
       "      <td>4</td>\n",
       "      <td>2</td>\n",
       "      <td>1</td>\n",
       "      <td>3</td>\n",
       "      <td>1</td>\n",
       "      <td>1</td>\n",
       "      <td>2</td>\n",
       "      <td>79</td>\n",
       "      <td>...</td>\n",
       "      <td>3</td>\n",
       "      <td>1</td>\n",
       "      <td>1</td>\n",
       "      <td>4</td>\n",
       "      <td>8</td>\n",
       "      <td>2</td>\n",
       "      <td>2</td>\n",
       "      <td>1</td>\n",
       "      <td>1996</td>\n",
       "      <td>1</td>\n",
       "    </tr>\n",
       "    <tr>\n",
       "      <th>14846</th>\n",
       "      <td>6</td>\n",
       "      <td>4</td>\n",
       "      <td>3</td>\n",
       "      <td>2</td>\n",
       "      <td>1</td>\n",
       "      <td>6</td>\n",
       "      <td>4</td>\n",
       "      <td>1</td>\n",
       "      <td>2</td>\n",
       "      <td>58</td>\n",
       "      <td>...</td>\n",
       "      <td>4</td>\n",
       "      <td>1</td>\n",
       "      <td>1</td>\n",
       "      <td>3</td>\n",
       "      <td>4</td>\n",
       "      <td>2</td>\n",
       "      <td>2</td>\n",
       "      <td>2</td>\n",
       "      <td>1996</td>\n",
       "      <td>3</td>\n",
       "    </tr>\n",
       "    <tr>\n",
       "      <th>11338</th>\n",
       "      <td>12</td>\n",
       "      <td>1</td>\n",
       "      <td>5</td>\n",
       "      <td>6</td>\n",
       "      <td>1</td>\n",
       "      <td>12</td>\n",
       "      <td>2</td>\n",
       "      <td>1</td>\n",
       "      <td>2</td>\n",
       "      <td>63</td>\n",
       "      <td>...</td>\n",
       "      <td>1</td>\n",
       "      <td>1</td>\n",
       "      <td>1</td>\n",
       "      <td>4</td>\n",
       "      <td>4</td>\n",
       "      <td>2</td>\n",
       "      <td>2</td>\n",
       "      <td>2</td>\n",
       "      <td>1996</td>\n",
       "      <td>3</td>\n",
       "    </tr>\n",
       "    <tr>\n",
       "      <th>8531</th>\n",
       "      <td>7</td>\n",
       "      <td>4</td>\n",
       "      <td>2</td>\n",
       "      <td>4</td>\n",
       "      <td>1</td>\n",
       "      <td>8</td>\n",
       "      <td>1</td>\n",
       "      <td>1</td>\n",
       "      <td>2</td>\n",
       "      <td>43</td>\n",
       "      <td>...</td>\n",
       "      <td>2</td>\n",
       "      <td>1</td>\n",
       "      <td>1</td>\n",
       "      <td>3</td>\n",
       "      <td>6</td>\n",
       "      <td>2</td>\n",
       "      <td>2</td>\n",
       "      <td>2</td>\n",
       "      <td>1995</td>\n",
       "      <td>1</td>\n",
       "    </tr>\n",
       "    <tr>\n",
       "      <th>...</th>\n",
       "      <td>...</td>\n",
       "      <td>...</td>\n",
       "      <td>...</td>\n",
       "      <td>...</td>\n",
       "      <td>...</td>\n",
       "      <td>...</td>\n",
       "      <td>...</td>\n",
       "      <td>...</td>\n",
       "      <td>...</td>\n",
       "      <td>...</td>\n",
       "      <td>...</td>\n",
       "      <td>...</td>\n",
       "      <td>...</td>\n",
       "      <td>...</td>\n",
       "      <td>...</td>\n",
       "      <td>...</td>\n",
       "      <td>...</td>\n",
       "      <td>...</td>\n",
       "      <td>...</td>\n",
       "      <td>...</td>\n",
       "      <td>...</td>\n",
       "    </tr>\n",
       "    <tr>\n",
       "      <th>2161</th>\n",
       "      <td>6</td>\n",
       "      <td>2</td>\n",
       "      <td>1</td>\n",
       "      <td>1</td>\n",
       "      <td>1</td>\n",
       "      <td>6</td>\n",
       "      <td>3</td>\n",
       "      <td>1</td>\n",
       "      <td>1</td>\n",
       "      <td>0</td>\n",
       "      <td>...</td>\n",
       "      <td>3</td>\n",
       "      <td>1</td>\n",
       "      <td>1</td>\n",
       "      <td>6</td>\n",
       "      <td>7</td>\n",
       "      <td>2</td>\n",
       "      <td>2</td>\n",
       "      <td>2</td>\n",
       "      <td>1994</td>\n",
       "      <td>1</td>\n",
       "    </tr>\n",
       "    <tr>\n",
       "      <th>10733</th>\n",
       "      <td>10</td>\n",
       "      <td>5</td>\n",
       "      <td>6</td>\n",
       "      <td>5</td>\n",
       "      <td>1</td>\n",
       "      <td>11</td>\n",
       "      <td>1</td>\n",
       "      <td>2</td>\n",
       "      <td>2</td>\n",
       "      <td>53</td>\n",
       "      <td>...</td>\n",
       "      <td>4</td>\n",
       "      <td>1</td>\n",
       "      <td>1</td>\n",
       "      <td>4</td>\n",
       "      <td>3</td>\n",
       "      <td>2</td>\n",
       "      <td>2</td>\n",
       "      <td>2</td>\n",
       "      <td>1995</td>\n",
       "      <td>2</td>\n",
       "    </tr>\n",
       "    <tr>\n",
       "      <th>3853</th>\n",
       "      <td>6</td>\n",
       "      <td>3</td>\n",
       "      <td>3</td>\n",
       "      <td>6</td>\n",
       "      <td>1</td>\n",
       "      <td>6</td>\n",
       "      <td>3</td>\n",
       "      <td>2</td>\n",
       "      <td>1</td>\n",
       "      <td>41</td>\n",
       "      <td>...</td>\n",
       "      <td>1</td>\n",
       "      <td>1</td>\n",
       "      <td>1</td>\n",
       "      <td>3</td>\n",
       "      <td>6</td>\n",
       "      <td>2</td>\n",
       "      <td>2</td>\n",
       "      <td>2</td>\n",
       "      <td>1994</td>\n",
       "      <td>1</td>\n",
       "    </tr>\n",
       "    <tr>\n",
       "      <th>12002</th>\n",
       "      <td>2</td>\n",
       "      <td>2</td>\n",
       "      <td>2</td>\n",
       "      <td>4</td>\n",
       "      <td>1</td>\n",
       "      <td>2</td>\n",
       "      <td>2</td>\n",
       "      <td>1</td>\n",
       "      <td>2</td>\n",
       "      <td>36</td>\n",
       "      <td>...</td>\n",
       "      <td>3</td>\n",
       "      <td>1</td>\n",
       "      <td>1</td>\n",
       "      <td>3</td>\n",
       "      <td>6</td>\n",
       "      <td>2</td>\n",
       "      <td>2</td>\n",
       "      <td>2</td>\n",
       "      <td>1996</td>\n",
       "      <td>3</td>\n",
       "    </tr>\n",
       "    <tr>\n",
       "      <th>8165</th>\n",
       "      <td>7</td>\n",
       "      <td>5</td>\n",
       "      <td>4</td>\n",
       "      <td>3</td>\n",
       "      <td>1</td>\n",
       "      <td>8</td>\n",
       "      <td>1</td>\n",
       "      <td>1</td>\n",
       "      <td>2</td>\n",
       "      <td>71</td>\n",
       "      <td>...</td>\n",
       "      <td>1</td>\n",
       "      <td>1</td>\n",
       "      <td>1</td>\n",
       "      <td>4</td>\n",
       "      <td>8</td>\n",
       "      <td>2</td>\n",
       "      <td>2</td>\n",
       "      <td>2</td>\n",
       "      <td>1995</td>\n",
       "      <td>2</td>\n",
       "    </tr>\n",
       "  </tbody>\n",
       "</table>\n",
       "<p>10794 rows × 24 columns</p>\n",
       "</div>"
      ],
      "text/plain": [
       "      Month  WeekOfMonth DayOfWeek Make AccidentArea MonthClaimed  \\\n",
       "12871     3            2         2    2            1            3   \n",
       "15334     1            4         4    2            1            3   \n",
       "14846     6            4         3    2            1            6   \n",
       "11338    12            1         5    6            1           12   \n",
       "8531      7            4         2    4            1            8   \n",
       "...     ...          ...       ...  ...          ...          ...   \n",
       "2161      6            2         1    1            1            6   \n",
       "10733    10            5         6    5            1           11   \n",
       "3853      6            3         3    6            1            6   \n",
       "12002     2            2         2    4            1            2   \n",
       "8165      7            5         4    3            1            8   \n",
       "\n",
       "       WeekOfMonthClaimed Sex MaritalStatus  Age  ... DriverRating  \\\n",
       "12871                   4   1             2   76  ...            3   \n",
       "15334                   1   1             2   79  ...            3   \n",
       "14846                   4   1             2   58  ...            4   \n",
       "11338                   2   1             2   63  ...            1   \n",
       "8531                    1   1             2   43  ...            2   \n",
       "...                   ...  ..           ...  ...  ...          ...   \n",
       "2161                    3   1             1    0  ...            3   \n",
       "10733                   1   2             2   53  ...            4   \n",
       "3853                    3   2             1   41  ...            1   \n",
       "12002                   2   1             2   36  ...            3   \n",
       "8165                    1   1             2   71  ...            1   \n",
       "\n",
       "      Days_Policy_Accident Days_Policy_Claim  AgeOfVehicle  AgeOfPolicyHolder  \\\n",
       "12871                    1                 1             4                  8   \n",
       "15334                    1                 1             4                  8   \n",
       "14846                    1                 1             3                  4   \n",
       "11338                    1                 1             4                  4   \n",
       "8531                     1                 1             3                  6   \n",
       "...                    ...               ...           ...                ...   \n",
       "2161                     1                 1             6                  7   \n",
       "10733                    1                 1             4                  3   \n",
       "3853                     1                 1             3                  6   \n",
       "12002                    1                 1             3                  6   \n",
       "8165                     1                 1             4                  8   \n",
       "\n",
       "      PoliceReportFiled WitnessPresent NumberOfCars  Year BasePolicy  \n",
       "12871                 2              2            2  1996          1  \n",
       "15334                 2              2            1  1996          1  \n",
       "14846                 2              2            2  1996          3  \n",
       "11338                 2              2            2  1996          3  \n",
       "8531                  2              2            2  1995          1  \n",
       "...                 ...            ...          ...   ...        ...  \n",
       "2161                  2              2            2  1994          1  \n",
       "10733                 2              2            2  1995          2  \n",
       "3853                  2              2            2  1994          1  \n",
       "12002                 2              2            2  1996          3  \n",
       "8165                  2              2            2  1995          2  \n",
       "\n",
       "[10794 rows x 24 columns]"
      ]
     },
     "execution_count": 88,
     "metadata": {},
     "output_type": "execute_result"
    }
   ],
   "source": [
    "x_train"
   ]
  },
  {
   "cell_type": "code",
   "execution_count": 89,
   "id": "71af9d93",
   "metadata": {},
   "outputs": [
    {
     "data": {
      "text/plain": [
       "RandomForestClassifier(n_estimators=15, random_state=0)"
      ]
     },
     "execution_count": 89,
     "metadata": {},
     "output_type": "execute_result"
    }
   ],
   "source": [
    "\n",
    "regressor = RandomForestClassifier(n_estimators=15, random_state=0)\n",
    "regressor.fit(x_train,y_train)"
   ]
  },
  {
   "cell_type": "code",
   "execution_count": 90,
   "id": "7e8df3e1",
   "metadata": {},
   "outputs": [
    {
     "name": "stdout",
     "output_type": "stream",
     "text": [
      "0.9945340003705763\n"
     ]
    }
   ],
   "source": [
    "print(regressor.score(x_train,y_train))"
   ]
  },
  {
   "cell_type": "code",
   "execution_count": 91,
   "id": "d9bec422",
   "metadata": {},
   "outputs": [
    {
     "data": {
      "text/plain": [
       "0.9349329874621704"
      ]
     },
     "execution_count": 91,
     "metadata": {},
     "output_type": "execute_result"
    }
   ],
   "source": [
    "from sklearn.metrics import accuracy_score\n",
    "y_pred = regressor.predict(X_test )\n",
    "accuracy_score(y_pred,y_test)"
   ]
  },
  {
   "cell_type": "code",
   "execution_count": 92,
   "id": "b97f0253",
   "metadata": {},
   "outputs": [],
   "source": [
    "import pickle\n",
    "\n",
    "pickle.dump(regressor,open('fraud.pkl','wb'))\n",
    "price = pickle.load(open('fraud.pkl','rb'))"
   ]
  },
  {
   "cell_type": "code",
   "execution_count": 93,
   "id": "92f622d8",
   "metadata": {},
   "outputs": [
    {
     "data": {
      "text/html": [
       "<div>\n",
       "<style scoped>\n",
       "    .dataframe tbody tr th:only-of-type {\n",
       "        vertical-align: middle;\n",
       "    }\n",
       "\n",
       "    .dataframe tbody tr th {\n",
       "        vertical-align: top;\n",
       "    }\n",
       "\n",
       "    .dataframe thead th {\n",
       "        text-align: right;\n",
       "    }\n",
       "</style>\n",
       "<table border=\"1\" class=\"dataframe\">\n",
       "  <thead>\n",
       "    <tr style=\"text-align: right;\">\n",
       "      <th></th>\n",
       "      <th>Month</th>\n",
       "      <th>WeekOfMonth</th>\n",
       "      <th>DayOfWeek</th>\n",
       "      <th>Make</th>\n",
       "      <th>AccidentArea</th>\n",
       "      <th>MonthClaimed</th>\n",
       "      <th>WeekOfMonthClaimed</th>\n",
       "      <th>Sex</th>\n",
       "      <th>MaritalStatus</th>\n",
       "      <th>Age</th>\n",
       "      <th>...</th>\n",
       "      <th>DriverRating</th>\n",
       "      <th>Days_Policy_Accident</th>\n",
       "      <th>Days_Policy_Claim</th>\n",
       "      <th>AgeOfVehicle</th>\n",
       "      <th>AgeOfPolicyHolder</th>\n",
       "      <th>PoliceReportFiled</th>\n",
       "      <th>WitnessPresent</th>\n",
       "      <th>NumberOfCars</th>\n",
       "      <th>Year</th>\n",
       "      <th>BasePolicy</th>\n",
       "    </tr>\n",
       "  </thead>\n",
       "  <tbody>\n",
       "    <tr>\n",
       "      <th>0</th>\n",
       "      <td>12</td>\n",
       "      <td>5</td>\n",
       "      <td>3</td>\n",
       "      <td>1</td>\n",
       "      <td>1</td>\n",
       "      <td>1</td>\n",
       "      <td>1</td>\n",
       "      <td>2</td>\n",
       "      <td>1</td>\n",
       "      <td>21</td>\n",
       "      <td>...</td>\n",
       "      <td>1</td>\n",
       "      <td>1</td>\n",
       "      <td>1</td>\n",
       "      <td>1</td>\n",
       "      <td>1</td>\n",
       "      <td>2</td>\n",
       "      <td>2</td>\n",
       "      <td>1</td>\n",
       "      <td>1994</td>\n",
       "      <td>2</td>\n",
       "    </tr>\n",
       "    <tr>\n",
       "      <th>1</th>\n",
       "      <td>1</td>\n",
       "      <td>3</td>\n",
       "      <td>3</td>\n",
       "      <td>1</td>\n",
       "      <td>1</td>\n",
       "      <td>1</td>\n",
       "      <td>4</td>\n",
       "      <td>1</td>\n",
       "      <td>1</td>\n",
       "      <td>34</td>\n",
       "      <td>...</td>\n",
       "      <td>4</td>\n",
       "      <td>1</td>\n",
       "      <td>1</td>\n",
       "      <td>2</td>\n",
       "      <td>2</td>\n",
       "      <td>1</td>\n",
       "      <td>2</td>\n",
       "      <td>2</td>\n",
       "      <td>1994</td>\n",
       "      <td>1</td>\n",
       "    </tr>\n",
       "    <tr>\n",
       "      <th>2</th>\n",
       "      <td>10</td>\n",
       "      <td>5</td>\n",
       "      <td>5</td>\n",
       "      <td>1</td>\n",
       "      <td>1</td>\n",
       "      <td>11</td>\n",
       "      <td>2</td>\n",
       "      <td>1</td>\n",
       "      <td>2</td>\n",
       "      <td>47</td>\n",
       "      <td>...</td>\n",
       "      <td>3</td>\n",
       "      <td>1</td>\n",
       "      <td>1</td>\n",
       "      <td>3</td>\n",
       "      <td>3</td>\n",
       "      <td>2</td>\n",
       "      <td>2</td>\n",
       "      <td>2</td>\n",
       "      <td>1994</td>\n",
       "      <td>1</td>\n",
       "    </tr>\n",
       "    <tr>\n",
       "      <th>3</th>\n",
       "      <td>6</td>\n",
       "      <td>2</td>\n",
       "      <td>6</td>\n",
       "      <td>2</td>\n",
       "      <td>2</td>\n",
       "      <td>7</td>\n",
       "      <td>1</td>\n",
       "      <td>1</td>\n",
       "      <td>2</td>\n",
       "      <td>65</td>\n",
       "      <td>...</td>\n",
       "      <td>2</td>\n",
       "      <td>1</td>\n",
       "      <td>1</td>\n",
       "      <td>4</td>\n",
       "      <td>4</td>\n",
       "      <td>1</td>\n",
       "      <td>2</td>\n",
       "      <td>2</td>\n",
       "      <td>1994</td>\n",
       "      <td>2</td>\n",
       "    </tr>\n",
       "    <tr>\n",
       "      <th>4</th>\n",
       "      <td>1</td>\n",
       "      <td>5</td>\n",
       "      <td>1</td>\n",
       "      <td>1</td>\n",
       "      <td>1</td>\n",
       "      <td>2</td>\n",
       "      <td>2</td>\n",
       "      <td>2</td>\n",
       "      <td>1</td>\n",
       "      <td>27</td>\n",
       "      <td>...</td>\n",
       "      <td>1</td>\n",
       "      <td>1</td>\n",
       "      <td>1</td>\n",
       "      <td>5</td>\n",
       "      <td>2</td>\n",
       "      <td>2</td>\n",
       "      <td>2</td>\n",
       "      <td>2</td>\n",
       "      <td>1994</td>\n",
       "      <td>1</td>\n",
       "    </tr>\n",
       "    <tr>\n",
       "      <th>...</th>\n",
       "      <td>...</td>\n",
       "      <td>...</td>\n",
       "      <td>...</td>\n",
       "      <td>...</td>\n",
       "      <td>...</td>\n",
       "      <td>...</td>\n",
       "      <td>...</td>\n",
       "      <td>...</td>\n",
       "      <td>...</td>\n",
       "      <td>...</td>\n",
       "      <td>...</td>\n",
       "      <td>...</td>\n",
       "      <td>...</td>\n",
       "      <td>...</td>\n",
       "      <td>...</td>\n",
       "      <td>...</td>\n",
       "      <td>...</td>\n",
       "      <td>...</td>\n",
       "      <td>...</td>\n",
       "      <td>...</td>\n",
       "      <td>...</td>\n",
       "    </tr>\n",
       "    <tr>\n",
       "      <th>15415</th>\n",
       "      <td>11</td>\n",
       "      <td>4</td>\n",
       "      <td>5</td>\n",
       "      <td>2</td>\n",
       "      <td>1</td>\n",
       "      <td>11</td>\n",
       "      <td>5</td>\n",
       "      <td>1</td>\n",
       "      <td>2</td>\n",
       "      <td>35</td>\n",
       "      <td>...</td>\n",
       "      <td>4</td>\n",
       "      <td>1</td>\n",
       "      <td>1</td>\n",
       "      <td>2</td>\n",
       "      <td>2</td>\n",
       "      <td>2</td>\n",
       "      <td>2</td>\n",
       "      <td>2</td>\n",
       "      <td>1996</td>\n",
       "      <td>1</td>\n",
       "    </tr>\n",
       "    <tr>\n",
       "      <th>15416</th>\n",
       "      <td>11</td>\n",
       "      <td>5</td>\n",
       "      <td>4</td>\n",
       "      <td>6</td>\n",
       "      <td>1</td>\n",
       "      <td>12</td>\n",
       "      <td>1</td>\n",
       "      <td>1</td>\n",
       "      <td>2</td>\n",
       "      <td>30</td>\n",
       "      <td>...</td>\n",
       "      <td>3</td>\n",
       "      <td>1</td>\n",
       "      <td>1</td>\n",
       "      <td>2</td>\n",
       "      <td>2</td>\n",
       "      <td>2</td>\n",
       "      <td>2</td>\n",
       "      <td>1</td>\n",
       "      <td>1996</td>\n",
       "      <td>2</td>\n",
       "    </tr>\n",
       "    <tr>\n",
       "      <th>15417</th>\n",
       "      <td>11</td>\n",
       "      <td>5</td>\n",
       "      <td>4</td>\n",
       "      <td>2</td>\n",
       "      <td>2</td>\n",
       "      <td>12</td>\n",
       "      <td>1</td>\n",
       "      <td>1</td>\n",
       "      <td>1</td>\n",
       "      <td>24</td>\n",
       "      <td>...</td>\n",
       "      <td>4</td>\n",
       "      <td>1</td>\n",
       "      <td>1</td>\n",
       "      <td>5</td>\n",
       "      <td>1</td>\n",
       "      <td>2</td>\n",
       "      <td>2</td>\n",
       "      <td>2</td>\n",
       "      <td>1996</td>\n",
       "      <td>1</td>\n",
       "    </tr>\n",
       "    <tr>\n",
       "      <th>15418</th>\n",
       "      <td>12</td>\n",
       "      <td>1</td>\n",
       "      <td>1</td>\n",
       "      <td>2</td>\n",
       "      <td>1</td>\n",
       "      <td>12</td>\n",
       "      <td>2</td>\n",
       "      <td>2</td>\n",
       "      <td>2</td>\n",
       "      <td>34</td>\n",
       "      <td>...</td>\n",
       "      <td>4</td>\n",
       "      <td>1</td>\n",
       "      <td>1</td>\n",
       "      <td>8</td>\n",
       "      <td>2</td>\n",
       "      <td>2</td>\n",
       "      <td>2</td>\n",
       "      <td>2</td>\n",
       "      <td>1996</td>\n",
       "      <td>3</td>\n",
       "    </tr>\n",
       "    <tr>\n",
       "      <th>15419</th>\n",
       "      <td>12</td>\n",
       "      <td>2</td>\n",
       "      <td>3</td>\n",
       "      <td>2</td>\n",
       "      <td>1</td>\n",
       "      <td>12</td>\n",
       "      <td>3</td>\n",
       "      <td>1</td>\n",
       "      <td>1</td>\n",
       "      <td>21</td>\n",
       "      <td>...</td>\n",
       "      <td>4</td>\n",
       "      <td>1</td>\n",
       "      <td>1</td>\n",
       "      <td>5</td>\n",
       "      <td>1</td>\n",
       "      <td>2</td>\n",
       "      <td>2</td>\n",
       "      <td>2</td>\n",
       "      <td>1996</td>\n",
       "      <td>1</td>\n",
       "    </tr>\n",
       "  </tbody>\n",
       "</table>\n",
       "<p>15420 rows × 24 columns</p>\n",
       "</div>"
      ],
      "text/plain": [
       "      Month  WeekOfMonth DayOfWeek Make AccidentArea MonthClaimed  \\\n",
       "0        12            5         3    1            1            1   \n",
       "1         1            3         3    1            1            1   \n",
       "2        10            5         5    1            1           11   \n",
       "3         6            2         6    2            2            7   \n",
       "4         1            5         1    1            1            2   \n",
       "...     ...          ...       ...  ...          ...          ...   \n",
       "15415    11            4         5    2            1           11   \n",
       "15416    11            5         4    6            1           12   \n",
       "15417    11            5         4    2            2           12   \n",
       "15418    12            1         1    2            1           12   \n",
       "15419    12            2         3    2            1           12   \n",
       "\n",
       "       WeekOfMonthClaimed Sex MaritalStatus  Age  ... DriverRating  \\\n",
       "0                       1   2             1   21  ...            1   \n",
       "1                       4   1             1   34  ...            4   \n",
       "2                       2   1             2   47  ...            3   \n",
       "3                       1   1             2   65  ...            2   \n",
       "4                       2   2             1   27  ...            1   \n",
       "...                   ...  ..           ...  ...  ...          ...   \n",
       "15415                   5   1             2   35  ...            4   \n",
       "15416                   1   1             2   30  ...            3   \n",
       "15417                   1   1             1   24  ...            4   \n",
       "15418                   2   2             2   34  ...            4   \n",
       "15419                   3   1             1   21  ...            4   \n",
       "\n",
       "      Days_Policy_Accident Days_Policy_Claim  AgeOfVehicle  AgeOfPolicyHolder  \\\n",
       "0                        1                 1             1                  1   \n",
       "1                        1                 1             2                  2   \n",
       "2                        1                 1             3                  3   \n",
       "3                        1                 1             4                  4   \n",
       "4                        1                 1             5                  2   \n",
       "...                    ...               ...           ...                ...   \n",
       "15415                    1                 1             2                  2   \n",
       "15416                    1                 1             2                  2   \n",
       "15417                    1                 1             5                  1   \n",
       "15418                    1                 1             8                  2   \n",
       "15419                    1                 1             5                  1   \n",
       "\n",
       "      PoliceReportFiled WitnessPresent NumberOfCars  Year BasePolicy  \n",
       "0                     2              2            1  1994          2  \n",
       "1                     1              2            2  1994          1  \n",
       "2                     2              2            2  1994          1  \n",
       "3                     1              2            2  1994          2  \n",
       "4                     2              2            2  1994          1  \n",
       "...                 ...            ...          ...   ...        ...  \n",
       "15415                 2              2            2  1996          1  \n",
       "15416                 2              2            1  1996          2  \n",
       "15417                 2              2            2  1996          1  \n",
       "15418                 2              2            2  1996          3  \n",
       "15419                 2              2            2  1996          1  \n",
       "\n",
       "[15420 rows x 24 columns]"
      ]
     },
     "execution_count": 93,
     "metadata": {},
     "output_type": "execute_result"
    }
   ],
   "source": [
    "X"
   ]
  },
  {
   "cell_type": "code",
   "execution_count": 94,
   "id": "deac188d",
   "metadata": {},
   "outputs": [
    {
     "data": {
      "text/plain": [
       "0        0\n",
       "1        0\n",
       "2        0\n",
       "3        0\n",
       "4        0\n",
       "        ..\n",
       "15415    1\n",
       "15416    0\n",
       "15417    1\n",
       "15418    0\n",
       "15419    1\n",
       "Name: FraudFound_P, Length: 15420, dtype: int64"
      ]
     },
     "execution_count": 94,
     "metadata": {},
     "output_type": "execute_result"
    }
   ],
   "source": [
    "y"
   ]
  },
  {
   "cell_type": "code",
   "execution_count": 95,
   "id": "441ad64c",
   "metadata": {},
   "outputs": [],
   "source": [
    "\n",
    "import sklearn.metrics"
   ]
  },
  {
   "cell_type": "code",
   "execution_count": 96,
   "id": "c227aa6f",
   "metadata": {},
   "outputs": [
    {
     "name": "stdout",
     "output_type": "stream",
     "text": [
      "              precision    recall  f1-score   support\n",
      "\n",
      "           0       0.94      1.00      0.97      4325\n",
      "           1       0.50      0.02      0.04       301\n",
      "\n",
      "    accuracy                           0.93      4626\n",
      "   macro avg       0.72      0.51      0.51      4626\n",
      "weighted avg       0.91      0.93      0.91      4626\n",
      "\n"
     ]
    }
   ],
   "source": [
    "print(sklearn.metrics.classification_report(y_test, y_pred))"
   ]
  },
  {
   "cell_type": "code",
   "execution_count": 97,
   "id": "c89b3313",
   "metadata": {},
   "outputs": [
    {
     "data": {
      "text/plain": [
       "array([[4318,    7],\n",
       "       [ 294,    7]], dtype=int64)"
      ]
     },
     "execution_count": 97,
     "metadata": {},
     "output_type": "execute_result"
    }
   ],
   "source": [
    "y_pred = regressor.predict(X_test )\n",
    "y_true=y_test\n",
    "\n",
    "\n",
    "from sklearn.metrics import confusion_matrix\n",
    "cm=confusion_matrix(y_true,y_pred)\n",
    "cm"
   ]
  },
  {
   "cell_type": "code",
   "execution_count": 98,
   "id": "9d8bd181",
   "metadata": {},
   "outputs": [
    {
     "data": {
      "image/png": "[encoded data removed]",
      "text/plain": [
       "<Figure size 360x360 with 2 Axes>"
      ]
     },
     "metadata": {
      "needs_background": "light"
     },
     "output_type": "display_data"
    }
   ],
   "source": [
    "import seaborn as sns\n",
    "import matplotlib.pyplot as plt\n",
    "\n",
    "f, ax=plt.subplots(figsize=(5,5))\n",
    "sns.heatmap(cm,annot=True,linewidths=0.5,linecolor=\"red\",fmt=\".0f\",ax=ax)\n",
    "plt.xlabel(\"y_pred\")\n",
    "plt.ylabel(\"y_true\")\n",
    "plt.show()"
   ]
  },
  {
   "cell_type": "code",
   "execution_count": null,
   "id": "5b418603",
   "metadata": {},
   "outputs": [],
   "source": []
  }
 ],
 "metadata": {
  "kernelspec": {
   "display_name": "Python 3 (ipykernel)",
   "language": "python",
   "name": "python3"
  },
  "language_info": {
   "codemirror_mode": {
    "name": "ipython",
    "version": 3
   },
   "file_extension": ".py",
   "mimetype": "text/x-python",
   "name": "python",
   "nbconvert_exporter": "python",
   "pygments_lexer": "ipython3",
   "version": "3.9.12"
  },
  "vscode": {
   "interpreter": {
    "hash": "86c09a04604f81c7c62e58c4e4933b19a1c58f4b64ba50187bda4ccf878853db"
   }
  }
 },
 "nbformat": 4,
 "nbformat_minor": 5
}
